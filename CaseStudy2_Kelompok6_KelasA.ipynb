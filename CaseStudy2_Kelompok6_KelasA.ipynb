{
  "cells": [
    {
      "cell_type": "markdown",
      "metadata": {
        "id": "view-in-github",
        "colab_type": "text"
      },
      "source": [
        "<a href=\"https://colab.research.google.com/github/ayumnaf/CaseStudy2_Kelompok6_A/blob/main/CaseStudy2_Kelompok6_KelasA.ipynb\" target=\"_parent\"><img src=\"https://colab.research.google.com/assets/colab-badge.svg\" alt=\"Open In Colab\"/></a>"
      ]
    },
    {
      "cell_type": "markdown",
      "metadata": {
        "id": "TAZZNdAdVU48"
      },
      "source": [
        "#**CASE STUDY 2 - CLUSTERING**#\n",
        "\n",
        "#**Data Mining and Business Intelligence**\n",
        "\n",
        "\n",
        "**Anggota Kelompok 6 Kelas A**\n",
        "- Alfia Choirun Nisa (1906299414)\n",
        "- Anatasya Oktaviani Handriati  (1906296186)\n",
        "- Athaya Yumna Fathiyah (1906296192)\n",
        "- Chika Ramadhani (1906374004)\n",
        "- Hana Adzania Nufaisah (1906377776)\n",
        "- Nabila Safitri (1906299540)\n",
        "- Rahmi Radhia Khalqi (1906375796)\n",
        "- Vania Adisaputri  (1906296362)"
      ]
    },
    {
      "cell_type": "markdown",
      "metadata": {
        "id": "3JInvlkhVc4e"
      },
      "source": [
        "**Import data excel ke dalam google colab melalui link github**"
      ]
    },
    {
      "cell_type": "code",
      "execution_count": null,
      "metadata": {
        "colab": {
          "base_uri": "https://localhost:8080/",
          "height": 424
        },
        "id": "YQMpcBXtVVnV",
        "outputId": "6eeab5e9-8c5a-4227-c21d-4949d2bf97ce"
      },
      "outputs": [
        {
          "data": {
            "text/html": [
              "\n",
              "  <div id=\"df-fab96ab6-f5c2-4ac6-9111-483f3cb9053f\">\n",
              "    <div class=\"colab-df-container\">\n",
              "      <div>\n",
              "<style scoped>\n",
              "    .dataframe tbody tr th:only-of-type {\n",
              "        vertical-align: middle;\n",
              "    }\n",
              "\n",
              "    .dataframe tbody tr th {\n",
              "        vertical-align: top;\n",
              "    }\n",
              "\n",
              "    .dataframe thead th {\n",
              "        text-align: right;\n",
              "    }\n",
              "</style>\n",
              "<table border=\"1\" class=\"dataframe\">\n",
              "  <thead>\n",
              "    <tr style=\"text-align: right;\">\n",
              "      <th></th>\n",
              "      <th>ID</th>\n",
              "      <th>Jenis Kelamin</th>\n",
              "      <th>Umur</th>\n",
              "      <th>Pendapatan-per-bulan</th>\n",
              "      <th>skor-pengeluaran</th>\n",
              "      <th>Menikah</th>\n",
              "      <th>Kota</th>\n",
              "      <th>Promo</th>\n",
              "      <th>HariFav</th>\n",
              "      <th>FavFlavor</th>\n",
              "    </tr>\n",
              "  </thead>\n",
              "  <tbody>\n",
              "    <tr>\n",
              "      <th>0</th>\n",
              "      <td>101</td>\n",
              "      <td>Wanita</td>\n",
              "      <td>49.00</td>\n",
              "      <td>13114754.0</td>\n",
              "      <td>52.0</td>\n",
              "      <td>1</td>\n",
              "      <td>Jakarta</td>\n",
              "      <td>1.0</td>\n",
              "      <td>Sabtu</td>\n",
              "      <td>2</td>\n",
              "    </tr>\n",
              "    <tr>\n",
              "      <th>1</th>\n",
              "      <td>102</td>\n",
              "      <td>Wanita</td>\n",
              "      <td>32.00</td>\n",
              "      <td>33606557.0</td>\n",
              "      <td>86.0</td>\n",
              "      <td>1</td>\n",
              "      <td>Depok</td>\n",
              "      <td>1.0</td>\n",
              "      <td>Minggu</td>\n",
              "      <td>6</td>\n",
              "    </tr>\n",
              "    <tr>\n",
              "      <th>2</th>\n",
              "      <td>103</td>\n",
              "      <td>Pria</td>\n",
              "      <td>51.00</td>\n",
              "      <td>15983606.0</td>\n",
              "      <td>41.0</td>\n",
              "      <td>1</td>\n",
              "      <td>Jakarta</td>\n",
              "      <td>2.0</td>\n",
              "      <td>Minggu</td>\n",
              "      <td>3</td>\n",
              "    </tr>\n",
              "    <tr>\n",
              "      <th>3</th>\n",
              "      <td>104</td>\n",
              "      <td>Pria</td>\n",
              "      <td>19.00</td>\n",
              "      <td>12704918.0</td>\n",
              "      <td>55.0</td>\n",
              "      <td>0</td>\n",
              "      <td>Jakarta</td>\n",
              "      <td>1.0</td>\n",
              "      <td>Rabu</td>\n",
              "      <td>7</td>\n",
              "    </tr>\n",
              "    <tr>\n",
              "      <th>4</th>\n",
              "      <td>105</td>\n",
              "      <td>Wanita</td>\n",
              "      <td>38.00</td>\n",
              "      <td>20081967.0</td>\n",
              "      <td>42.0</td>\n",
              "      <td>1</td>\n",
              "      <td>Jakarta</td>\n",
              "      <td>2.0</td>\n",
              "      <td>Senin</td>\n",
              "      <td>8</td>\n",
              "    </tr>\n",
              "    <tr>\n",
              "      <th>...</th>\n",
              "      <td>...</td>\n",
              "      <td>...</td>\n",
              "      <td>...</td>\n",
              "      <td>...</td>\n",
              "      <td>...</td>\n",
              "      <td>...</td>\n",
              "      <td>...</td>\n",
              "      <td>...</td>\n",
              "      <td>...</td>\n",
              "      <td>...</td>\n",
              "    </tr>\n",
              "    <tr>\n",
              "      <th>195</th>\n",
              "      <td>296</td>\n",
              "      <td>Pria</td>\n",
              "      <td>31.00</td>\n",
              "      <td>4098360.0</td>\n",
              "      <td>73.0</td>\n",
              "      <td>1</td>\n",
              "      <td>Depok</td>\n",
              "      <td>1.0</td>\n",
              "      <td>Senin</td>\n",
              "      <td>0</td>\n",
              "    </tr>\n",
              "    <tr>\n",
              "      <th>196</th>\n",
              "      <td>297</td>\n",
              "      <td>Pria</td>\n",
              "      <td>57.00</td>\n",
              "      <td>15983606.0</td>\n",
              "      <td>51.0</td>\n",
              "      <td>1</td>\n",
              "      <td>Jakarta</td>\n",
              "      <td>1.0</td>\n",
              "      <td>Minggu</td>\n",
              "      <td>5</td>\n",
              "    </tr>\n",
              "    <tr>\n",
              "      <th>197</th>\n",
              "      <td>298</td>\n",
              "      <td>Wanita</td>\n",
              "      <td>35.00</td>\n",
              "      <td>43032786.0</td>\n",
              "      <td>79.0</td>\n",
              "      <td>1</td>\n",
              "      <td>Depok</td>\n",
              "      <td>1.0</td>\n",
              "      <td>Senin</td>\n",
              "      <td>7</td>\n",
              "    </tr>\n",
              "    <tr>\n",
              "      <th>198</th>\n",
              "      <td>299</td>\n",
              "      <td>Wanita</td>\n",
              "      <td>23.00</td>\n",
              "      <td>1229508.0</td>\n",
              "      <td>94.0</td>\n",
              "      <td>1</td>\n",
              "      <td>Depok</td>\n",
              "      <td>0.0</td>\n",
              "      <td>Selasa</td>\n",
              "      <td>0</td>\n",
              "    </tr>\n",
              "    <tr>\n",
              "      <th>199</th>\n",
              "      <td>300</td>\n",
              "      <td>Pria</td>\n",
              "      <td>50.00</td>\n",
              "      <td>1639344.0</td>\n",
              "      <td>14.0</td>\n",
              "      <td>1</td>\n",
              "      <td>Tangerang</td>\n",
              "      <td>3.0</td>\n",
              "      <td>Minggu</td>\n",
              "      <td>6</td>\n",
              "    </tr>\n",
              "  </tbody>\n",
              "</table>\n",
              "<p>200 rows × 10 columns</p>\n",
              "</div>\n",
              "      <button class=\"colab-df-convert\" onclick=\"convertToInteractive('df-fab96ab6-f5c2-4ac6-9111-483f3cb9053f')\"\n",
              "              title=\"Convert this dataframe to an interactive table.\"\n",
              "              style=\"display:none;\">\n",
              "        \n",
              "  <svg xmlns=\"http://www.w3.org/2000/svg\" height=\"24px\"viewBox=\"0 0 24 24\"\n",
              "       width=\"24px\">\n",
              "    <path d=\"M0 0h24v24H0V0z\" fill=\"none\"/>\n",
              "    <path d=\"M18.56 5.44l.94 2.06.94-2.06 2.06-.94-2.06-.94-.94-2.06-.94 2.06-2.06.94zm-11 1L8.5 8.5l.94-2.06 2.06-.94-2.06-.94L8.5 2.5l-.94 2.06-2.06.94zm10 10l.94 2.06.94-2.06 2.06-.94-2.06-.94-.94-2.06-.94 2.06-2.06.94z\"/><path d=\"M17.41 7.96l-1.37-1.37c-.4-.4-.92-.59-1.43-.59-.52 0-1.04.2-1.43.59L10.3 9.45l-7.72 7.72c-.78.78-.78 2.05 0 2.83L4 21.41c.39.39.9.59 1.41.59.51 0 1.02-.2 1.41-.59l7.78-7.78 2.81-2.81c.8-.78.8-2.07 0-2.86zM5.41 20L4 18.59l7.72-7.72 1.47 1.35L5.41 20z\"/>\n",
              "  </svg>\n",
              "      </button>\n",
              "      \n",
              "  <style>\n",
              "    .colab-df-container {\n",
              "      display:flex;\n",
              "      flex-wrap:wrap;\n",
              "      gap: 12px;\n",
              "    }\n",
              "\n",
              "    .colab-df-convert {\n",
              "      background-color: #E8F0FE;\n",
              "      border: none;\n",
              "      border-radius: 50%;\n",
              "      cursor: pointer;\n",
              "      display: none;\n",
              "      fill: #1967D2;\n",
              "      height: 32px;\n",
              "      padding: 0 0 0 0;\n",
              "      width: 32px;\n",
              "    }\n",
              "\n",
              "    .colab-df-convert:hover {\n",
              "      background-color: #E2EBFA;\n",
              "      box-shadow: 0px 1px 2px rgba(60, 64, 67, 0.3), 0px 1px 3px 1px rgba(60, 64, 67, 0.15);\n",
              "      fill: #174EA6;\n",
              "    }\n",
              "\n",
              "    [theme=dark] .colab-df-convert {\n",
              "      background-color: #3B4455;\n",
              "      fill: #D2E3FC;\n",
              "    }\n",
              "\n",
              "    [theme=dark] .colab-df-convert:hover {\n",
              "      background-color: #434B5C;\n",
              "      box-shadow: 0px 1px 3px 1px rgba(0, 0, 0, 0.15);\n",
              "      filter: drop-shadow(0px 1px 2px rgba(0, 0, 0, 0.3));\n",
              "      fill: #FFFFFF;\n",
              "    }\n",
              "  </style>\n",
              "\n",
              "      <script>\n",
              "        const buttonEl =\n",
              "          document.querySelector('#df-fab96ab6-f5c2-4ac6-9111-483f3cb9053f button.colab-df-convert');\n",
              "        buttonEl.style.display =\n",
              "          google.colab.kernel.accessAllowed ? 'block' : 'none';\n",
              "\n",
              "        async function convertToInteractive(key) {\n",
              "          const element = document.querySelector('#df-fab96ab6-f5c2-4ac6-9111-483f3cb9053f');\n",
              "          const dataTable =\n",
              "            await google.colab.kernel.invokeFunction('convertToInteractive',\n",
              "                                                     [key], {});\n",
              "          if (!dataTable) return;\n",
              "\n",
              "          const docLinkHtml = 'Like what you see? Visit the ' +\n",
              "            '<a target=\"_blank\" href=https://colab.research.google.com/notebooks/data_table.ipynb>data table notebook</a>'\n",
              "            + ' to learn more about interactive tables.';\n",
              "          element.innerHTML = '';\n",
              "          dataTable['output_type'] = 'display_data';\n",
              "          await google.colab.output.renderOutput(dataTable, element);\n",
              "          const docLink = document.createElement('div');\n",
              "          docLink.innerHTML = docLinkHtml;\n",
              "          element.appendChild(docLink);\n",
              "        }\n",
              "      </script>\n",
              "    </div>\n",
              "  </div>\n",
              "  "
            ],
            "text/plain": [
              "      ID Jenis Kelamin   Umur  Pendapatan-per-bulan  skor-pengeluaran Menikah  \\\n",
              "0    101        Wanita  49.00            13114754.0              52.0       1   \n",
              "1    102        Wanita  32.00            33606557.0              86.0       1   \n",
              "2    103          Pria  51.00            15983606.0              41.0       1   \n",
              "3    104          Pria  19.00            12704918.0              55.0       0   \n",
              "4    105        Wanita  38.00            20081967.0              42.0       1   \n",
              "..   ...           ...    ...                   ...               ...     ...   \n",
              "195  296          Pria  31.00             4098360.0              73.0       1   \n",
              "196  297          Pria  57.00            15983606.0              51.0       1   \n",
              "197  298        Wanita  35.00            43032786.0              79.0       1   \n",
              "198  299        Wanita  23.00             1229508.0              94.0       1   \n",
              "199  300          Pria  50.00             1639344.0              14.0       1   \n",
              "\n",
              "          Kota  Promo HariFav  FavFlavor  \n",
              "0      Jakarta    1.0   Sabtu          2  \n",
              "1        Depok    1.0  Minggu          6  \n",
              "2      Jakarta    2.0  Minggu          3  \n",
              "3      Jakarta    1.0    Rabu          7  \n",
              "4      Jakarta    2.0   Senin          8  \n",
              "..         ...    ...     ...        ...  \n",
              "195      Depok    1.0   Senin          0  \n",
              "196    Jakarta    1.0  Minggu          5  \n",
              "197      Depok    1.0   Senin          7  \n",
              "198      Depok    0.0  Selasa          0  \n",
              "199  Tangerang    3.0  Minggu          6  \n",
              "\n",
              "[200 rows x 10 columns]"
            ]
          },
          "execution_count": 89,
          "metadata": {},
          "output_type": "execute_result"
        }
      ],
      "source": [
        "import pandas as pd\n",
        "\n",
        "df = pd.read_csv('https://raw.githubusercontent.com/ayumnaf/CaseStudy2_Kelompok6_A/main/CaseStudy2.csv')\n",
        "df"
      ]
    },
    {
      "cell_type": "markdown",
      "metadata": {
        "id": "H2IZKrjcVk4C"
      },
      "source": [
        "**Mencari tau tipe-tipe data tiap kolom yang ada pada data**"
      ]
    },
    {
      "cell_type": "code",
      "execution_count": null,
      "metadata": {
        "colab": {
          "base_uri": "https://localhost:8080/"
        },
        "id": "gwOY6L_DVf5e",
        "outputId": "24a5b3d4-1613-4729-f81f-1b0d370e0e5a"
      },
      "outputs": [
        {
          "name": "stdout",
          "output_type": "stream",
          "text": [
            "<class 'pandas.core.frame.DataFrame'>\n",
            "RangeIndex: 200 entries, 0 to 199\n",
            "Data columns (total 10 columns):\n",
            " #   Column                Non-Null Count  Dtype  \n",
            "---  ------                --------------  -----  \n",
            " 0   ID                    200 non-null    int64  \n",
            " 1   Jenis Kelamin         196 non-null    object \n",
            " 2   Umur                  200 non-null    object \n",
            " 3   Pendapatan-per-bulan  200 non-null    float64\n",
            " 4   skor-pengeluaran      200 non-null    float64\n",
            " 5   Menikah               188 non-null    object \n",
            " 6   Kota                  200 non-null    object \n",
            " 7   Promo                 194 non-null    float64\n",
            " 8   HariFav               200 non-null    object \n",
            " 9   FavFlavor             200 non-null    int64  \n",
            "dtypes: float64(3), int64(2), object(5)\n",
            "memory usage: 15.8+ KB\n"
          ]
        }
      ],
      "source": [
        "df.info()"
      ]
    },
    {
      "cell_type": "markdown",
      "metadata": {
        "id": "jRl9GY_1Vq_S"
      },
      "source": [
        "**Membuang Kolom ID**"
      ]
    },
    {
      "cell_type": "code",
      "execution_count": null,
      "metadata": {
        "colab": {
          "base_uri": "https://localhost:8080/",
          "height": 206
        },
        "id": "NcFK40_gVodH",
        "outputId": "fa196497-8296-45b8-a527-5ee45926c338"
      },
      "outputs": [
        {
          "data": {
            "text/html": [
              "\n",
              "  <div id=\"df-30ae5e64-e08c-4797-9b6b-6026e2985d03\">\n",
              "    <div class=\"colab-df-container\">\n",
              "      <div>\n",
              "<style scoped>\n",
              "    .dataframe tbody tr th:only-of-type {\n",
              "        vertical-align: middle;\n",
              "    }\n",
              "\n",
              "    .dataframe tbody tr th {\n",
              "        vertical-align: top;\n",
              "    }\n",
              "\n",
              "    .dataframe thead th {\n",
              "        text-align: right;\n",
              "    }\n",
              "</style>\n",
              "<table border=\"1\" class=\"dataframe\">\n",
              "  <thead>\n",
              "    <tr style=\"text-align: right;\">\n",
              "      <th></th>\n",
              "      <th>Jenis Kelamin</th>\n",
              "      <th>Umur</th>\n",
              "      <th>Pendapatan-per-bulan</th>\n",
              "      <th>skor-pengeluaran</th>\n",
              "      <th>Menikah</th>\n",
              "      <th>Kota</th>\n",
              "      <th>Promo</th>\n",
              "      <th>HariFav</th>\n",
              "      <th>FavFlavor</th>\n",
              "    </tr>\n",
              "  </thead>\n",
              "  <tbody>\n",
              "    <tr>\n",
              "      <th>0</th>\n",
              "      <td>Wanita</td>\n",
              "      <td>49.00</td>\n",
              "      <td>13114754.0</td>\n",
              "      <td>52.0</td>\n",
              "      <td>1</td>\n",
              "      <td>Jakarta</td>\n",
              "      <td>1.0</td>\n",
              "      <td>Sabtu</td>\n",
              "      <td>2</td>\n",
              "    </tr>\n",
              "    <tr>\n",
              "      <th>1</th>\n",
              "      <td>Wanita</td>\n",
              "      <td>32.00</td>\n",
              "      <td>33606557.0</td>\n",
              "      <td>86.0</td>\n",
              "      <td>1</td>\n",
              "      <td>Depok</td>\n",
              "      <td>1.0</td>\n",
              "      <td>Minggu</td>\n",
              "      <td>6</td>\n",
              "    </tr>\n",
              "    <tr>\n",
              "      <th>2</th>\n",
              "      <td>Pria</td>\n",
              "      <td>51.00</td>\n",
              "      <td>15983606.0</td>\n",
              "      <td>41.0</td>\n",
              "      <td>1</td>\n",
              "      <td>Jakarta</td>\n",
              "      <td>2.0</td>\n",
              "      <td>Minggu</td>\n",
              "      <td>3</td>\n",
              "    </tr>\n",
              "    <tr>\n",
              "      <th>3</th>\n",
              "      <td>Pria</td>\n",
              "      <td>19.00</td>\n",
              "      <td>12704918.0</td>\n",
              "      <td>55.0</td>\n",
              "      <td>0</td>\n",
              "      <td>Jakarta</td>\n",
              "      <td>1.0</td>\n",
              "      <td>Rabu</td>\n",
              "      <td>7</td>\n",
              "    </tr>\n",
              "    <tr>\n",
              "      <th>4</th>\n",
              "      <td>Wanita</td>\n",
              "      <td>38.00</td>\n",
              "      <td>20081967.0</td>\n",
              "      <td>42.0</td>\n",
              "      <td>1</td>\n",
              "      <td>Jakarta</td>\n",
              "      <td>2.0</td>\n",
              "      <td>Senin</td>\n",
              "      <td>8</td>\n",
              "    </tr>\n",
              "  </tbody>\n",
              "</table>\n",
              "</div>\n",
              "      <button class=\"colab-df-convert\" onclick=\"convertToInteractive('df-30ae5e64-e08c-4797-9b6b-6026e2985d03')\"\n",
              "              title=\"Convert this dataframe to an interactive table.\"\n",
              "              style=\"display:none;\">\n",
              "        \n",
              "  <svg xmlns=\"http://www.w3.org/2000/svg\" height=\"24px\"viewBox=\"0 0 24 24\"\n",
              "       width=\"24px\">\n",
              "    <path d=\"M0 0h24v24H0V0z\" fill=\"none\"/>\n",
              "    <path d=\"M18.56 5.44l.94 2.06.94-2.06 2.06-.94-2.06-.94-.94-2.06-.94 2.06-2.06.94zm-11 1L8.5 8.5l.94-2.06 2.06-.94-2.06-.94L8.5 2.5l-.94 2.06-2.06.94zm10 10l.94 2.06.94-2.06 2.06-.94-2.06-.94-.94-2.06-.94 2.06-2.06.94z\"/><path d=\"M17.41 7.96l-1.37-1.37c-.4-.4-.92-.59-1.43-.59-.52 0-1.04.2-1.43.59L10.3 9.45l-7.72 7.72c-.78.78-.78 2.05 0 2.83L4 21.41c.39.39.9.59 1.41.59.51 0 1.02-.2 1.41-.59l7.78-7.78 2.81-2.81c.8-.78.8-2.07 0-2.86zM5.41 20L4 18.59l7.72-7.72 1.47 1.35L5.41 20z\"/>\n",
              "  </svg>\n",
              "      </button>\n",
              "      \n",
              "  <style>\n",
              "    .colab-df-container {\n",
              "      display:flex;\n",
              "      flex-wrap:wrap;\n",
              "      gap: 12px;\n",
              "    }\n",
              "\n",
              "    .colab-df-convert {\n",
              "      background-color: #E8F0FE;\n",
              "      border: none;\n",
              "      border-radius: 50%;\n",
              "      cursor: pointer;\n",
              "      display: none;\n",
              "      fill: #1967D2;\n",
              "      height: 32px;\n",
              "      padding: 0 0 0 0;\n",
              "      width: 32px;\n",
              "    }\n",
              "\n",
              "    .colab-df-convert:hover {\n",
              "      background-color: #E2EBFA;\n",
              "      box-shadow: 0px 1px 2px rgba(60, 64, 67, 0.3), 0px 1px 3px 1px rgba(60, 64, 67, 0.15);\n",
              "      fill: #174EA6;\n",
              "    }\n",
              "\n",
              "    [theme=dark] .colab-df-convert {\n",
              "      background-color: #3B4455;\n",
              "      fill: #D2E3FC;\n",
              "    }\n",
              "\n",
              "    [theme=dark] .colab-df-convert:hover {\n",
              "      background-color: #434B5C;\n",
              "      box-shadow: 0px 1px 3px 1px rgba(0, 0, 0, 0.15);\n",
              "      filter: drop-shadow(0px 1px 2px rgba(0, 0, 0, 0.3));\n",
              "      fill: #FFFFFF;\n",
              "    }\n",
              "  </style>\n",
              "\n",
              "      <script>\n",
              "        const buttonEl =\n",
              "          document.querySelector('#df-30ae5e64-e08c-4797-9b6b-6026e2985d03 button.colab-df-convert');\n",
              "        buttonEl.style.display =\n",
              "          google.colab.kernel.accessAllowed ? 'block' : 'none';\n",
              "\n",
              "        async function convertToInteractive(key) {\n",
              "          const element = document.querySelector('#df-30ae5e64-e08c-4797-9b6b-6026e2985d03');\n",
              "          const dataTable =\n",
              "            await google.colab.kernel.invokeFunction('convertToInteractive',\n",
              "                                                     [key], {});\n",
              "          if (!dataTable) return;\n",
              "\n",
              "          const docLinkHtml = 'Like what you see? Visit the ' +\n",
              "            '<a target=\"_blank\" href=https://colab.research.google.com/notebooks/data_table.ipynb>data table notebook</a>'\n",
              "            + ' to learn more about interactive tables.';\n",
              "          element.innerHTML = '';\n",
              "          dataTable['output_type'] = 'display_data';\n",
              "          await google.colab.output.renderOutput(dataTable, element);\n",
              "          const docLink = document.createElement('div');\n",
              "          docLink.innerHTML = docLinkHtml;\n",
              "          element.appendChild(docLink);\n",
              "        }\n",
              "      </script>\n",
              "    </div>\n",
              "  </div>\n",
              "  "
            ],
            "text/plain": [
              "  Jenis Kelamin   Umur  Pendapatan-per-bulan  skor-pengeluaran Menikah  \\\n",
              "0        Wanita  49.00            13114754.0              52.0       1   \n",
              "1        Wanita  32.00            33606557.0              86.0       1   \n",
              "2          Pria  51.00            15983606.0              41.0       1   \n",
              "3          Pria  19.00            12704918.0              55.0       0   \n",
              "4        Wanita  38.00            20081967.0              42.0       1   \n",
              "\n",
              "      Kota  Promo HariFav  FavFlavor  \n",
              "0  Jakarta    1.0   Sabtu          2  \n",
              "1    Depok    1.0  Minggu          6  \n",
              "2  Jakarta    2.0  Minggu          3  \n",
              "3  Jakarta    1.0    Rabu          7  \n",
              "4  Jakarta    2.0   Senin          8  "
            ]
          },
          "execution_count": 91,
          "metadata": {},
          "output_type": "execute_result"
        }
      ],
      "source": [
        "df.drop(\"ID\",axis=1,inplace=True)\n",
        "df.head()"
      ]
    },
    {
      "cell_type": "markdown",
      "metadata": {
        "id": "0r5ItQ3pV0-q"
      },
      "source": [
        "**Melihat banyaknya missing values**"
      ]
    },
    {
      "cell_type": "code",
      "execution_count": null,
      "metadata": {
        "colab": {
          "base_uri": "https://localhost:8080/"
        },
        "id": "52VYuZyWVvKe",
        "outputId": "5cd033be-7346-49c7-b2f1-3deb85d29ca9"
      },
      "outputs": [
        {
          "data": {
            "text/plain": [
              "Jenis Kelamin            4\n",
              "Umur                     0\n",
              "Pendapatan-per-bulan     0\n",
              "skor-pengeluaran         0\n",
              "Menikah                 12\n",
              "Kota                     0\n",
              "Promo                    6\n",
              "HariFav                  0\n",
              "FavFlavor                0\n",
              "dtype: int64"
            ]
          },
          "execution_count": 92,
          "metadata": {},
          "output_type": "execute_result"
        }
      ],
      "source": [
        "df.isnull().sum()"
      ]
    },
    {
      "cell_type": "markdown",
      "metadata": {
        "id": "an-K7fHxWEH2"
      },
      "source": [
        "**Memeriksa data setiap kolom**"
      ]
    },
    {
      "cell_type": "code",
      "execution_count": null,
      "metadata": {
        "colab": {
          "base_uri": "https://localhost:8080/"
        },
        "id": "xvCUquODV5jv",
        "outputId": "1fe62985-1e65-44c9-ef37-cccb8a366ea0"
      },
      "outputs": [
        {
          "data": {
            "text/plain": [
              "Wanita    109\n",
              "Pria       86\n",
              "-           1\n",
              "Name: Jenis Kelamin, dtype: int64"
            ]
          },
          "execution_count": 93,
          "metadata": {},
          "output_type": "execute_result"
        }
      ],
      "source": [
        "df['Jenis Kelamin'].value_counts()"
      ]
    },
    {
      "cell_type": "code",
      "execution_count": null,
      "metadata": {
        "colab": {
          "base_uri": "https://localhost:8080/"
        },
        "id": "gM0q_RMLWHyi",
        "outputId": "d78368ba-829e-47b0-a38b-c3220a8ba0ac"
      },
      "outputs": [
        {
          "data": {
            "text/plain": [
              "1    160\n",
              "0     26\n",
              "       1\n",
              "-      1\n",
              "Name: Menikah, dtype: int64"
            ]
          },
          "execution_count": 94,
          "metadata": {},
          "output_type": "execute_result"
        }
      ],
      "source": [
        "df['Menikah'].value_counts()"
      ]
    },
    {
      "cell_type": "code",
      "execution_count": null,
      "metadata": {
        "colab": {
          "base_uri": "https://localhost:8080/"
        },
        "id": "jdKgmMWxWKGI",
        "outputId": "81303f81-d551-48c0-8e75-de17b3835df8"
      },
      "outputs": [
        {
          "data": {
            "text/plain": [
              "1.0    86\n",
              "3.0    50\n",
              "2.0    43\n",
              "0.0    14\n",
              "5.0     1\n",
              "Name: Promo, dtype: int64"
            ]
          },
          "execution_count": 95,
          "metadata": {},
          "output_type": "execute_result"
        }
      ],
      "source": [
        "df['Promo'].value_counts()"
      ]
    },
    {
      "cell_type": "code",
      "execution_count": null,
      "metadata": {
        "colab": {
          "base_uri": "https://localhost:8080/"
        },
        "id": "SVtcgWFOWMg_",
        "outputId": "fc3f3ca3-236b-45f7-d17f-9a6b0a4b70c1"
      },
      "outputs": [
        {
          "data": {
            "text/plain": [
              "Jakarta      87\n",
              "Depok        59\n",
              "Tangerang    53\n",
              "JJakarta      1\n",
              "Name: Kota, dtype: int64"
            ]
          },
          "execution_count": 96,
          "metadata": {},
          "output_type": "execute_result"
        }
      ],
      "source": [
        "df['Kota'].value_counts()"
      ]
    },
    {
      "cell_type": "code",
      "execution_count": null,
      "metadata": {
        "colab": {
          "base_uri": "https://localhost:8080/"
        },
        "id": "sbdvEa-_WV_S",
        "outputId": "630d2a85-2fdd-46da-ecb3-e29b0c6e39a7"
      },
      "outputs": [
        {
          "data": {
            "text/plain": [
              "32.00    11\n",
              "35.00     8\n",
              "31.00     8\n",
              "49.00     8\n",
              "19.00     8\n",
              "47.00     7\n",
              "30.00     7\n",
              "38.00     6\n",
              "50.00     6\n",
              "27.00     6\n",
              "36.00     6\n",
              "40.00     6\n",
              "48.00     6\n",
              "23.00     6\n",
              "54.00     5\n",
              "29.00     5\n",
              "34.00     5\n",
              "20.00     5\n",
              "21.00     5\n",
              "59.00     4\n",
              "46.00     4\n",
              "43.00     4\n",
              "28.00     4\n",
              "24.00     4\n",
              "45.00     4\n",
              "58.00     3\n",
              "60.00     3\n",
              "52.00     3\n",
              "39.00     3\n",
              "51.00     3\n",
              "42.00     3\n",
              "33.00     3\n",
              "25.00     3\n",
              "18.00     3\n",
              "44.00     3\n",
              "53.00     3\n",
              "22.00     3\n",
              "37.00     3\n",
              "57.00     3\n",
              "55.00     2\n",
              "41.00     2\n",
              "56.00     2\n",
              "26.00     2\n",
              "2.00      1\n",
              "35'       1\n",
              "Name: Umur, dtype: int64"
            ]
          },
          "execution_count": 97,
          "metadata": {},
          "output_type": "execute_result"
        }
      ],
      "source": [
        "df['Umur'].value_counts()"
      ]
    },
    {
      "cell_type": "code",
      "execution_count": null,
      "metadata": {
        "colab": {
          "base_uri": "https://localhost:8080/"
        },
        "id": "VOqJ6Q_sXnr8",
        "outputId": "b6459635-e9b0-4f8a-f239-16d61d32107d"
      },
      "outputs": [
        {
          "data": {
            "text/plain": [
              "0    40\n",
              "2    20\n",
              "6    20\n",
              "3    20\n",
              "7    20\n",
              "5    20\n",
              "4    20\n",
              "1    20\n",
              "8    19\n",
              "9     1\n",
              "Name: FavFlavor, dtype: int64"
            ]
          },
          "execution_count": 98,
          "metadata": {},
          "output_type": "execute_result"
        }
      ],
      "source": [
        "df['FavFlavor'].value_counts()"
      ]
    },
    {
      "cell_type": "markdown",
      "metadata": {
        "id": "eNVIthtUWmuK"
      },
      "source": [
        "**Mengubah data yang tidak sesuai penulisan dan kategori**"
      ]
    },
    {
      "cell_type": "code",
      "execution_count": null,
      "metadata": {
        "id": "9gsqjxCZWdJJ"
      },
      "outputs": [],
      "source": [
        "import numpy as np\n",
        "df['Umur'] = df['Umur'].replace(\"35'\",\"35\")\n",
        "df['Kota'] = df['Kota'].replace(\"JJakarta\",\"Jakarta\")\n",
        "df['FavFlavor'] = df['FavFlavor'].replace(\"9\",np.NaN)\n",
        "df['Promo']=df['Promo'].replace(\"5\",np.NaN)\n",
        "df['skor-pengeluaran'] = df['skor-pengeluaran'].replace(\"101\",\"100\")\n",
        "df['Menikah'] = df['Menikah'].replace(' ','1')\n",
        "df['Jenis Kelamin'] = df['Jenis Kelamin'].fillna('Wanita')\n",
        "df['Menikah'] = df['Menikah'].str.replace('-', '1')\n",
        "df['Jenis Kelamin'] = df['Jenis Kelamin'].str.replace('-', 'Wanita')"
      ]
    },
    {
      "cell_type": "markdown",
      "metadata": {
        "id": "ozGJkbAuXFAQ"
      },
      "source": [
        "*   Pada kolom Promo nilai '-' diubah menjadi '0', karena diasumsikan '-' berarti tidak pernah menggunakan promo.\n",
        "*   Pada kolom Menikah nilai '-' diubah menjadi '1', karena modus dari kolom Menikah adalah 1(Menikah).\n",
        "*   Pada kolom Jenis Kelamin nilai '-' diubah menjadi 'Wanita', karena modus dari kolom Jenis Kelamin adalah 'Wanita'\n",
        "*   Pada kolom Promo missing values diubah menjadi '0', karena diasumsikan tidak pernah menggunakan promo.\n",
        "*   Pada kolom Menikah missing values diubah menjadi '1', karena modus dari kolom Menikah adalah 1(Menikah).\n",
        "*   Pada kolom Jenis Kelamin missing values diubah menjadi 'Wanita', karena modus dari kolom Jenis Kelamin adalah 'Wanita'.\n",
        "*   Mengubah 35' menjadi 35 pada kolom umur karena diasumsikan terjadi kesalahan penulisan.\n",
        "*   Mengubah JJakarta menjadi Jakarta karena diasumsikan terjadi kesalahan penulisan.\n",
        "\n"
      ]
    },
    {
      "cell_type": "code",
      "execution_count": null,
      "metadata": {
        "id": "qp0QR0zQf-Tb"
      },
      "outputs": [],
      "source": [
        "df=df.dropna() #Menghapus missing values "
      ]
    },
    {
      "cell_type": "markdown",
      "metadata": {
        "id": "KyebLPADXux7"
      },
      "source": [
        "**Mengubah tipe data tiap kolom**"
      ]
    },
    {
      "cell_type": "code",
      "execution_count": null,
      "metadata": {
        "colab": {
          "base_uri": "https://localhost:8080/"
        },
        "id": "BCff-RYYX1Pc",
        "outputId": "5c5b833e-c130-492f-c94f-8911159b4848"
      },
      "outputs": [
        {
          "data": {
            "text/plain": [
              "Jenis Kelamin           category\n",
              "Umur                     float64\n",
              "Pendapatan-per-bulan       int64\n",
              "skor-pengeluaran           int64\n",
              "Menikah                 category\n",
              "Kota                    category\n",
              "Promo                   category\n",
              "HariFav                 category\n",
              "FavFlavor               category\n",
              "dtype: object"
            ]
          },
          "execution_count": 101,
          "metadata": {},
          "output_type": "execute_result"
        }
      ],
      "source": [
        "df['Jenis Kelamin'] = df['Jenis Kelamin'].astype('category')\n",
        "df['Pendapatan-per-bulan'] = df['Pendapatan-per-bulan'].astype('int64') #pendapatan perbulan itu tipe datanya apa ya? atau float64?\n",
        "df['Menikah']=df['Menikah'].astype('category')\n",
        "df['Kota']=df['Kota'].astype('category')\n",
        "df['Promo']=df['Promo'].astype('category')\n",
        "df['HariFav']=df['HariFav'].astype('category')\n",
        "df['FavFlavor']=df['FavFlavor'].astype('category')\n",
        "df['Umur']=df['Umur'].astype('float64')\n",
        "df['skor-pengeluaran']=df['skor-pengeluaran'].astype('int64')\n",
        "df.dtypes"
      ]
    },
    {
      "cell_type": "markdown",
      "metadata": {
        "id": "Rz3A-SbJW1im"
      },
      "source": [
        "- Variabel jenis Kelamin diubah menjadi tipe datanya dari objek menjadi kategori karena terdiri dari kategori wanita dan pria\n",
        "\n",
        "- Variabel Pendapatan perbulan diubah dari float menjadi integer karena merupakan data diskrit\n",
        "\n",
        "- Variabel Menikah diubah dari objek menjadi kategori\n",
        "\n",
        "- Variabel Kota diubah dari objek menjadi kategori \n",
        "\n",
        "- Variabel Promo diubah dari float menjadi kategori \n",
        "\n",
        "- Variabel HariFav diubah dari objek menjadi kategori \n",
        "\n",
        "- Variabel  FavFlavor diubah dari integer menjadi kategori \n",
        "\n",
        "- Variabel Umur diubah dari objek menjadi integer karena merupakan data diskrit (tidak ada nilai umur yang 30.6)"
      ]
    },
    {
      "cell_type": "markdown",
      "metadata": {
        "id": "u1Q0RcKAYC8o"
      },
      "source": [
        "**Mengecek Duplikasi  dan Missing Values Data**"
      ]
    },
    {
      "cell_type": "code",
      "execution_count": null,
      "metadata": {
        "colab": {
          "base_uri": "https://localhost:8080/"
        },
        "id": "6nPwlzcuW0G_",
        "outputId": "2f0df22f-69ee-4db8-b21a-86499da17119"
      },
      "outputs": [
        {
          "data": {
            "text/plain": [
              "Jenis Kelamin           0\n",
              "Umur                    0\n",
              "Pendapatan-per-bulan    0\n",
              "skor-pengeluaran        0\n",
              "Menikah                 0\n",
              "Kota                    0\n",
              "Promo                   0\n",
              "HariFav                 0\n",
              "FavFlavor               0\n",
              "dtype: int64"
            ]
          },
          "execution_count": 102,
          "metadata": {},
          "output_type": "execute_result"
        }
      ],
      "source": [
        "df.isnull().sum()"
      ]
    },
    {
      "cell_type": "code",
      "execution_count": null,
      "metadata": {
        "colab": {
          "base_uri": "https://localhost:8080/"
        },
        "id": "PFpUAQWXYh7U",
        "outputId": "e1712a37-6563-4dc0-ba7d-cce2363b54ab"
      },
      "outputs": [
        {
          "data": {
            "text/plain": [
              "0"
            ]
          },
          "execution_count": 103,
          "metadata": {},
          "output_type": "execute_result"
        }
      ],
      "source": [
        "df.duplicated().sum()"
      ]
    },
    {
      "cell_type": "markdown",
      "metadata": {
        "id": "zYuDC5ScYlPJ"
      },
      "source": [
        "Dapat dilihat tidak ada missing value dan data yang duplikat"
      ]
    },
    {
      "cell_type": "code",
      "execution_count": null,
      "metadata": {
        "colab": {
          "base_uri": "https://localhost:8080/",
          "height": 424
        },
        "id": "O76zQ41CYKEW",
        "outputId": "80c50376-3f7e-4cfe-9307-97ad38ad2ae7"
      },
      "outputs": [
        {
          "data": {
            "text/html": [
              "\n",
              "  <div id=\"df-384fdb03-6e3f-4261-ac03-2005ef873b25\">\n",
              "    <div class=\"colab-df-container\">\n",
              "      <div>\n",
              "<style scoped>\n",
              "    .dataframe tbody tr th:only-of-type {\n",
              "        vertical-align: middle;\n",
              "    }\n",
              "\n",
              "    .dataframe tbody tr th {\n",
              "        vertical-align: top;\n",
              "    }\n",
              "\n",
              "    .dataframe thead th {\n",
              "        text-align: right;\n",
              "    }\n",
              "</style>\n",
              "<table border=\"1\" class=\"dataframe\">\n",
              "  <thead>\n",
              "    <tr style=\"text-align: right;\">\n",
              "      <th></th>\n",
              "      <th>Jenis Kelamin</th>\n",
              "      <th>Umur</th>\n",
              "      <th>Pendapatan-per-bulan</th>\n",
              "      <th>skor-pengeluaran</th>\n",
              "      <th>Menikah</th>\n",
              "      <th>Kota</th>\n",
              "      <th>Promo</th>\n",
              "      <th>HariFav</th>\n",
              "      <th>FavFlavor</th>\n",
              "    </tr>\n",
              "  </thead>\n",
              "  <tbody>\n",
              "    <tr>\n",
              "      <th>0</th>\n",
              "      <td>Wanita</td>\n",
              "      <td>49.0</td>\n",
              "      <td>13114754</td>\n",
              "      <td>52</td>\n",
              "      <td>1</td>\n",
              "      <td>Jakarta</td>\n",
              "      <td>1.0</td>\n",
              "      <td>Sabtu</td>\n",
              "      <td>2</td>\n",
              "    </tr>\n",
              "    <tr>\n",
              "      <th>1</th>\n",
              "      <td>Wanita</td>\n",
              "      <td>32.0</td>\n",
              "      <td>33606557</td>\n",
              "      <td>86</td>\n",
              "      <td>1</td>\n",
              "      <td>Depok</td>\n",
              "      <td>1.0</td>\n",
              "      <td>Minggu</td>\n",
              "      <td>6</td>\n",
              "    </tr>\n",
              "    <tr>\n",
              "      <th>2</th>\n",
              "      <td>Pria</td>\n",
              "      <td>51.0</td>\n",
              "      <td>15983606</td>\n",
              "      <td>41</td>\n",
              "      <td>1</td>\n",
              "      <td>Jakarta</td>\n",
              "      <td>2.0</td>\n",
              "      <td>Minggu</td>\n",
              "      <td>3</td>\n",
              "    </tr>\n",
              "    <tr>\n",
              "      <th>3</th>\n",
              "      <td>Pria</td>\n",
              "      <td>19.0</td>\n",
              "      <td>12704918</td>\n",
              "      <td>55</td>\n",
              "      <td>0</td>\n",
              "      <td>Jakarta</td>\n",
              "      <td>1.0</td>\n",
              "      <td>Rabu</td>\n",
              "      <td>7</td>\n",
              "    </tr>\n",
              "    <tr>\n",
              "      <th>4</th>\n",
              "      <td>Wanita</td>\n",
              "      <td>38.0</td>\n",
              "      <td>20081967</td>\n",
              "      <td>42</td>\n",
              "      <td>1</td>\n",
              "      <td>Jakarta</td>\n",
              "      <td>2.0</td>\n",
              "      <td>Senin</td>\n",
              "      <td>8</td>\n",
              "    </tr>\n",
              "    <tr>\n",
              "      <th>...</th>\n",
              "      <td>...</td>\n",
              "      <td>...</td>\n",
              "      <td>...</td>\n",
              "      <td>...</td>\n",
              "      <td>...</td>\n",
              "      <td>...</td>\n",
              "      <td>...</td>\n",
              "      <td>...</td>\n",
              "      <td>...</td>\n",
              "    </tr>\n",
              "    <tr>\n",
              "      <th>195</th>\n",
              "      <td>Pria</td>\n",
              "      <td>31.0</td>\n",
              "      <td>4098360</td>\n",
              "      <td>73</td>\n",
              "      <td>1</td>\n",
              "      <td>Depok</td>\n",
              "      <td>1.0</td>\n",
              "      <td>Senin</td>\n",
              "      <td>0</td>\n",
              "    </tr>\n",
              "    <tr>\n",
              "      <th>196</th>\n",
              "      <td>Pria</td>\n",
              "      <td>57.0</td>\n",
              "      <td>15983606</td>\n",
              "      <td>51</td>\n",
              "      <td>1</td>\n",
              "      <td>Jakarta</td>\n",
              "      <td>1.0</td>\n",
              "      <td>Minggu</td>\n",
              "      <td>5</td>\n",
              "    </tr>\n",
              "    <tr>\n",
              "      <th>197</th>\n",
              "      <td>Wanita</td>\n",
              "      <td>35.0</td>\n",
              "      <td>43032786</td>\n",
              "      <td>79</td>\n",
              "      <td>1</td>\n",
              "      <td>Depok</td>\n",
              "      <td>1.0</td>\n",
              "      <td>Senin</td>\n",
              "      <td>7</td>\n",
              "    </tr>\n",
              "    <tr>\n",
              "      <th>198</th>\n",
              "      <td>Wanita</td>\n",
              "      <td>23.0</td>\n",
              "      <td>1229508</td>\n",
              "      <td>94</td>\n",
              "      <td>1</td>\n",
              "      <td>Depok</td>\n",
              "      <td>0.0</td>\n",
              "      <td>Selasa</td>\n",
              "      <td>0</td>\n",
              "    </tr>\n",
              "    <tr>\n",
              "      <th>199</th>\n",
              "      <td>Pria</td>\n",
              "      <td>50.0</td>\n",
              "      <td>1639344</td>\n",
              "      <td>14</td>\n",
              "      <td>1</td>\n",
              "      <td>Tangerang</td>\n",
              "      <td>3.0</td>\n",
              "      <td>Minggu</td>\n",
              "      <td>6</td>\n",
              "    </tr>\n",
              "  </tbody>\n",
              "</table>\n",
              "<p>182 rows × 9 columns</p>\n",
              "</div>\n",
              "      <button class=\"colab-df-convert\" onclick=\"convertToInteractive('df-384fdb03-6e3f-4261-ac03-2005ef873b25')\"\n",
              "              title=\"Convert this dataframe to an interactive table.\"\n",
              "              style=\"display:none;\">\n",
              "        \n",
              "  <svg xmlns=\"http://www.w3.org/2000/svg\" height=\"24px\"viewBox=\"0 0 24 24\"\n",
              "       width=\"24px\">\n",
              "    <path d=\"M0 0h24v24H0V0z\" fill=\"none\"/>\n",
              "    <path d=\"M18.56 5.44l.94 2.06.94-2.06 2.06-.94-2.06-.94-.94-2.06-.94 2.06-2.06.94zm-11 1L8.5 8.5l.94-2.06 2.06-.94-2.06-.94L8.5 2.5l-.94 2.06-2.06.94zm10 10l.94 2.06.94-2.06 2.06-.94-2.06-.94-.94-2.06-.94 2.06-2.06.94z\"/><path d=\"M17.41 7.96l-1.37-1.37c-.4-.4-.92-.59-1.43-.59-.52 0-1.04.2-1.43.59L10.3 9.45l-7.72 7.72c-.78.78-.78 2.05 0 2.83L4 21.41c.39.39.9.59 1.41.59.51 0 1.02-.2 1.41-.59l7.78-7.78 2.81-2.81c.8-.78.8-2.07 0-2.86zM5.41 20L4 18.59l7.72-7.72 1.47 1.35L5.41 20z\"/>\n",
              "  </svg>\n",
              "      </button>\n",
              "      \n",
              "  <style>\n",
              "    .colab-df-container {\n",
              "      display:flex;\n",
              "      flex-wrap:wrap;\n",
              "      gap: 12px;\n",
              "    }\n",
              "\n",
              "    .colab-df-convert {\n",
              "      background-color: #E8F0FE;\n",
              "      border: none;\n",
              "      border-radius: 50%;\n",
              "      cursor: pointer;\n",
              "      display: none;\n",
              "      fill: #1967D2;\n",
              "      height: 32px;\n",
              "      padding: 0 0 0 0;\n",
              "      width: 32px;\n",
              "    }\n",
              "\n",
              "    .colab-df-convert:hover {\n",
              "      background-color: #E2EBFA;\n",
              "      box-shadow: 0px 1px 2px rgba(60, 64, 67, 0.3), 0px 1px 3px 1px rgba(60, 64, 67, 0.15);\n",
              "      fill: #174EA6;\n",
              "    }\n",
              "\n",
              "    [theme=dark] .colab-df-convert {\n",
              "      background-color: #3B4455;\n",
              "      fill: #D2E3FC;\n",
              "    }\n",
              "\n",
              "    [theme=dark] .colab-df-convert:hover {\n",
              "      background-color: #434B5C;\n",
              "      box-shadow: 0px 1px 3px 1px rgba(0, 0, 0, 0.15);\n",
              "      filter: drop-shadow(0px 1px 2px rgba(0, 0, 0, 0.3));\n",
              "      fill: #FFFFFF;\n",
              "    }\n",
              "  </style>\n",
              "\n",
              "      <script>\n",
              "        const buttonEl =\n",
              "          document.querySelector('#df-384fdb03-6e3f-4261-ac03-2005ef873b25 button.colab-df-convert');\n",
              "        buttonEl.style.display =\n",
              "          google.colab.kernel.accessAllowed ? 'block' : 'none';\n",
              "\n",
              "        async function convertToInteractive(key) {\n",
              "          const element = document.querySelector('#df-384fdb03-6e3f-4261-ac03-2005ef873b25');\n",
              "          const dataTable =\n",
              "            await google.colab.kernel.invokeFunction('convertToInteractive',\n",
              "                                                     [key], {});\n",
              "          if (!dataTable) return;\n",
              "\n",
              "          const docLinkHtml = 'Like what you see? Visit the ' +\n",
              "            '<a target=\"_blank\" href=https://colab.research.google.com/notebooks/data_table.ipynb>data table notebook</a>'\n",
              "            + ' to learn more about interactive tables.';\n",
              "          element.innerHTML = '';\n",
              "          dataTable['output_type'] = 'display_data';\n",
              "          await google.colab.output.renderOutput(dataTable, element);\n",
              "          const docLink = document.createElement('div');\n",
              "          docLink.innerHTML = docLinkHtml;\n",
              "          element.appendChild(docLink);\n",
              "        }\n",
              "      </script>\n",
              "    </div>\n",
              "  </div>\n",
              "  "
            ],
            "text/plain": [
              "    Jenis Kelamin  Umur  Pendapatan-per-bulan  skor-pengeluaran Menikah  \\\n",
              "0          Wanita  49.0              13114754                52       1   \n",
              "1          Wanita  32.0              33606557                86       1   \n",
              "2            Pria  51.0              15983606                41       1   \n",
              "3            Pria  19.0              12704918                55       0   \n",
              "4          Wanita  38.0              20081967                42       1   \n",
              "..            ...   ...                   ...               ...     ...   \n",
              "195          Pria  31.0               4098360                73       1   \n",
              "196          Pria  57.0              15983606                51       1   \n",
              "197        Wanita  35.0              43032786                79       1   \n",
              "198        Wanita  23.0               1229508                94       1   \n",
              "199          Pria  50.0               1639344                14       1   \n",
              "\n",
              "          Kota Promo HariFav FavFlavor  \n",
              "0      Jakarta   1.0   Sabtu         2  \n",
              "1        Depok   1.0  Minggu         6  \n",
              "2      Jakarta   2.0  Minggu         3  \n",
              "3      Jakarta   1.0    Rabu         7  \n",
              "4      Jakarta   2.0   Senin         8  \n",
              "..         ...   ...     ...       ...  \n",
              "195      Depok   1.0   Senin         0  \n",
              "196    Jakarta   1.0  Minggu         5  \n",
              "197      Depok   1.0   Senin         7  \n",
              "198      Depok   0.0  Selasa         0  \n",
              "199  Tangerang   3.0  Minggu         6  \n",
              "\n",
              "[182 rows x 9 columns]"
            ]
          },
          "execution_count": 104,
          "metadata": {},
          "output_type": "execute_result"
        }
      ],
      "source": [
        "df"
      ]
    },
    {
      "cell_type": "markdown",
      "metadata": {
        "id": "33WqzNQtZfaR"
      },
      "source": [
        "#**Exploratory Data Analysis**#"
      ]
    },
    {
      "cell_type": "markdown",
      "metadata": {
        "id": "R7gt0Ft3Z7LM"
      },
      "source": [
        "**JENIS KELAMIN**"
      ]
    },
    {
      "cell_type": "code",
      "execution_count": null,
      "metadata": {
        "colab": {
          "base_uri": "https://localhost:8080/",
          "height": 302
        },
        "id": "0mWE3aj1YrOY",
        "outputId": "55771c3b-4cac-40fc-fe36-e260e06b4c1b"
      },
      "outputs": [
        {
          "data": {
            "text/plain": [
              "<matplotlib.axes._subplots.AxesSubplot at 0x7f30140fad10>"
            ]
          },
          "execution_count": 105,
          "metadata": {},
          "output_type": "execute_result"
        },
        {
          "data": {
            "image/png": "[encoded data removed]",
            "text/plain": [
              "<Figure size 432x288 with 1 Axes>"
            ]
          },
          "metadata": {},
          "output_type": "display_data"
        }
      ],
      "source": [
        "import matplotlib.pyplot as plt, seaborn as sns\n",
        "sns.countplot(x = \"Jenis Kelamin\", data = df)"
      ]
    },
    {
      "cell_type": "code",
      "execution_count": null,
      "metadata": {
        "colab": {
          "base_uri": "https://localhost:8080/",
          "height": 365
        },
        "id": "Tnzhnle6Z8kP",
        "outputId": "7a7a2d91-1d2a-4f7b-ba60-308d51ff3835"
      },
      "outputs": [
        {
          "data": {
            "image/png": "[encoded data removed]",
            "text/plain": [
              "<Figure size 360x360 with 1 Axes>"
            ]
          },
          "metadata": {},
          "output_type": "display_data"
        }
      ],
      "source": [
        "p= sns.catplot(x=\"Jenis Kelamin\", y=\"skor-pengeluaran\", data=df)"
      ]
    },
    {
      "cell_type": "code",
      "execution_count": null,
      "metadata": {
        "colab": {
          "base_uri": "https://localhost:8080/",
          "height": 365
        },
        "id": "wHzgm6YQaLkc",
        "outputId": "8478bad9-e84c-4068-ddcd-18a6849e2f70"
      },
      "outputs": [
        {
          "data": {
            "image/png": "[encoded data removed]",
            "text/plain": [
              "<Figure size 457.475x360 with 1 Axes>"
            ]
          },
          "metadata": {},
          "output_type": "display_data"
        }
      ],
      "source": [
        "p= sns.catplot(x=\"Jenis Kelamin\", y=\"skor-pengeluaran\", hue=\"Kota\", kind=\"swarm\", data=df)"
      ]
    },
    {
      "cell_type": "markdown",
      "metadata": {
        "id": "6PCWVkZWbZBN"
      },
      "source": [
        "Berdasarkan grafik di atas, skor pengeluaran paling tinggi terjadi di kota **Depok**, warga kota depok memiliki tingkat pengeluaran di MixItUp yang paling besar. Sehingga, bisa disarankan untuk membuka lebih banyak cabang di Kota Depok. Namun untuk menambah cabang di Kota Depok, sebaiknya mempertimbangkan banyak penjualan di masing-masing cabang yang ada di kota Depok."
      ]
    },
    {
      "cell_type": "markdown",
      "metadata": {
        "id": "HLPTqxY4aUj3"
      },
      "source": [
        "KOTA"
      ]
    },
    {
      "cell_type": "code",
      "execution_count": null,
      "metadata": {
        "colab": {
          "base_uri": "https://localhost:8080/",
          "height": 302
        },
        "id": "X1n1OVtFaP85",
        "outputId": "12ef2998-01dc-4149-85a0-ddbb38d6f7b1"
      },
      "outputs": [
        {
          "data": {
            "text/plain": [
              "<matplotlib.axes._subplots.AxesSubplot at 0x7f3013f72990>"
            ]
          },
          "execution_count": 108,
          "metadata": {},
          "output_type": "execute_result"
        },
        {
          "data": {
            "image/png": "[encoded data removed]",
            "text/plain": [
              "<Figure size 432x288 with 1 Axes>"
            ]
          },
          "metadata": {},
          "output_type": "display_data"
        }
      ],
      "source": [
        "sns.countplot(x = \"Kota\", data = df)"
      ]
    },
    {
      "cell_type": "markdown",
      "metadata": {
        "id": "M6VBhl6ncC32"
      },
      "source": [
        "Di Kota Jakarta, terdata banyak pembeli yang mendaftarkan loyality programnya. Maka, dapat digencarkan kembali promosi untuk mendaftar loyality program."
      ]
    },
    {
      "cell_type": "code",
      "execution_count": null,
      "metadata": {
        "colab": {
          "base_uri": "https://localhost:8080/",
          "height": 365
        },
        "id": "FfHZETi-aXcM",
        "outputId": "44cc1004-20fe-4035-e688-c39cf0fdd94b"
      },
      "outputs": [
        {
          "data": {
            "image/png": "[encoded data removed]",
            "text/plain": [
              "<Figure size 360x360 with 1 Axes>"
            ]
          },
          "metadata": {},
          "output_type": "display_data"
        }
      ],
      "source": [
        "p= sns.catplot(x=\"Kota\", y=\"skor-pengeluaran\", data=df)"
      ]
    },
    {
      "cell_type": "markdown",
      "metadata": {
        "id": "P3yltDMhad8M"
      },
      "source": [
        "JENIS RASA ES KRIM"
      ]
    },
    {
      "cell_type": "code",
      "execution_count": null,
      "metadata": {
        "colab": {
          "base_uri": "https://localhost:8080/",
          "height": 302
        },
        "id": "eSvFweEhabyR",
        "outputId": "cfc5e01f-5b0e-4196-a337-3e8dde7458ac"
      },
      "outputs": [
        {
          "data": {
            "text/plain": [
              "<matplotlib.axes._subplots.AxesSubplot at 0x7f3013eaaad0>"
            ]
          },
          "execution_count": 110,
          "metadata": {},
          "output_type": "execute_result"
        },
        {
          "data": {
            "image/png": "[encoded data removed]",
            "text/plain": [
              "<Figure size 432x288 with 1 Axes>"
            ]
          },
          "metadata": {},
          "output_type": "display_data"
        }
      ],
      "source": [
        "sns.countplot(x = \"FavFlavor\", data = df)"
      ]
    },
    {
      "cell_type": "markdown",
      "metadata": {
        "id": "Z8PYBkEBdBrl"
      },
      "source": [
        "Berdasarkan grafik di atas, dapat dilihat eskrim yang paling banyak dibeli adalah vanilla."
      ]
    },
    {
      "cell_type": "code",
      "execution_count": null,
      "metadata": {
        "colab": {
          "base_uri": "https://localhost:8080/",
          "height": 365
        },
        "id": "8jkQC7-8ajHT",
        "outputId": "e7f574c6-1dae-4f9b-db15-6791dbc8ecd6"
      },
      "outputs": [
        {
          "data": {
            "image/png": "[encoded data removed]",
            "text/plain": [
              "<Figure size 360x360 with 1 Axes>"
            ]
          },
          "metadata": {},
          "output_type": "display_data"
        }
      ],
      "source": [
        "p= sns.catplot(x=\"FavFlavor\", y=\"skor-pengeluaran\", data=df)"
      ]
    },
    {
      "cell_type": "code",
      "execution_count": null,
      "metadata": {
        "colab": {
          "base_uri": "https://localhost:8080/",
          "height": 365
        },
        "id": "t2xvHonKamK5",
        "outputId": "76378312-078f-4c8a-9f34-7c47e3b397f4"
      },
      "outputs": [
        {
          "data": {
            "image/png": "[encoded data removed]",
            "text/plain": [
              "<Figure size 457.475x360 with 1 Axes>"
            ]
          },
          "metadata": {},
          "output_type": "display_data"
        }
      ],
      "source": [
        "p= sns.catplot(x=\"FavFlavor\", y=\"skor-pengeluaran\", hue=\"Kota\", kind=\"swarm\", data=df)"
      ]
    },
    {
      "cell_type": "markdown",
      "metadata": {
        "id": "oGdes5dAdY9H"
      },
      "source": [
        "Depok suka rasa vanilla, sedangkan kota lain distribusi rasa fav nya menyebar merata\n",
        "Sehingga dapat diperbanyak stock persedian es krim vanilla di kota Depok\n",
        "\n",
        "Bisa juga dengan membuat promo di rasa es krim lainnya sehingga skor pengeluarannya makin tinggi"
      ]
    },
    {
      "cell_type": "code",
      "execution_count": null,
      "metadata": {
        "colab": {
          "base_uri": "https://localhost:8080/",
          "height": 548
        },
        "id": "U9KrwmSfapNt",
        "outputId": "4b3809fa-ab14-4258-97c7-21aef3db8da0"
      },
      "outputs": [
        {
          "data": {
            "image/png": "[encoded data removed]",
            "text/plain": [
              "<Figure size 637.475x540 with 12 Axes>"
            ]
          },
          "metadata": {},
          "output_type": "display_data"
        }
      ],
      "source": [
        "g = sns.pairplot(df, hue=\"Kota\")"
      ]
    },
    {
      "cell_type": "markdown",
      "metadata": {
        "id": "shxAPC-WaxOu"
      },
      "source": [
        "PENDAPATAN"
      ]
    },
    {
      "cell_type": "code",
      "execution_count": null,
      "metadata": {
        "colab": {
          "background_save": true,
          "base_uri": "https://localhost:8080/",
          "height": 513
        },
        "id": "QhXR1KopauSh",
        "outputId": "af140473-6d4c-4fd2-ee9e-85e55a1f0782"
      },
      "outputs": [
        {
          "data": {
            "image/png": "[encoded data removed]",
            "text/plain": [
              "<Figure size 864x576 with 1 Axes>"
            ]
          },
          "metadata": {},
          "output_type": "display_data"
        }
      ],
      "source": [
        "fig, ax = plt.subplots(1, 1, figsize=(12,8))\n",
        "p = sns.scatterplot(x=df['skor-pengeluaran'], y=df['Pendapatan-per-bulan'], hue = df['Kota'])"
      ]
    },
    {
      "cell_type": "markdown",
      "metadata": {
        "id": "2IkcWVESmu2P"
      },
      "source": [
        "gaji setiap pembeli dari kota jakarta paling banyak di kisaran 10 jt - 25 jt an, sedangkan gaji pembeli dari kota depok dan kota tangerang di kisaran kurang dari 10 jt dan lebih dari 20 jt. Agar skor pengeluaran di kota lebih tinggi, bisa meningkatkan promosi untuk lebih mengenalkan produknya. Promosi tersebut bisa melalui medsos dan bazaar."
      ]
    },
    {
      "cell_type": "code",
      "execution_count": null,
      "metadata": {
        "colab": {
          "background_save": true,
          "base_uri": "https://localhost:8080/",
          "height": 513
        },
        "id": "3jWDReo1a1Pc",
        "outputId": "d8f6ec8d-b22a-43c2-d913-91a8290718e3"
      },
      "outputs": [
        {
          "data": {
            "image/png": "[encoded data removed]",
            "text/plain": [
              "<Figure size 864x576 with 1 Axes>"
            ]
          },
          "metadata": {},
          "output_type": "display_data"
        }
      ],
      "source": [
        "fig, ax = plt.subplots(1, 1, figsize=(12,8))\n",
        "p = sns.scatterplot(x=df['Kota'], y=df['Pendapatan-per-bulan'])"
      ]
    },
    {
      "cell_type": "code",
      "execution_count": null,
      "metadata": {
        "colab": {
          "base_uri": "https://localhost:8080/",
          "height": 296
        },
        "id": "PRux3BHla7r0",
        "outputId": "db3d70e2-2dae-4261-8d85-971df310a39b"
      },
      "outputs": [
        {
          "data": {
            "image/png": "[encoded data removed]",
            "text/plain": [
              "<Figure size 432x288 with 1 Axes>"
            ]
          },
          "metadata": {},
          "output_type": "display_data"
        }
      ],
      "source": [
        "p = sns.violinplot(x=\"Kota\", y=\"Pendapatan-per-bulan\", data=df, palette='rainbow')"
      ]
    },
    {
      "cell_type": "markdown",
      "metadata": {
        "id": "xn7BLg47naPu"
      },
      "source": [
        "Pembeli di Kota Depok kisaran di umur 10 - 45 tahun atau didominasi oleh anak muda yang yang berumur 20 - 35 tahun. \n",
        "\n",
        "Untuk kota Jakarta memiliki pembeli yang umurnya bervariasi, tetapi di dominasi oleh pembeli yang berumur 40-60 tahun.\n",
        "\n",
        "Sedangkan, Kota Tangerang memiliki pembeli yang kisarannya di 10 -70 tahun tetapi didominasi oleh 30 - 50 tahun.\n",
        "\n",
        "**Insight** = Mungkin **alasan kenapa skor pengeluaran di Kota Tangerang lebih sedikit** dibanding kota lainnya adalah **pembeli yang kebanyakan umurnya sudah tua**. Pembeli yang berumur 30 - 50 tahun di **Kota Tangerang tidak tertarik untuk membeli produk MixItUp**\n",
        "\n",
        "Sedangkan **kota Depok didominasi oleh anak muda** yang umurnya 20 - 35 tahun sehingga **produk kita lebih laris** berdasarkan skor pengeluaran."
      ]
    },
    {
      "cell_type": "markdown",
      "metadata": {
        "id": "U_KLsps_bBD2"
      },
      "source": [
        "UMUR"
      ]
    },
    {
      "cell_type": "code",
      "execution_count": null,
      "metadata": {
        "colab": {
          "base_uri": "https://localhost:8080/",
          "height": 502
        },
        "id": "VtZimNZZa-cH",
        "outputId": "42bb58e9-e899-40a0-d761-e7c8ff0d4b03"
      },
      "outputs": [
        {
          "data": {
            "image/png": "[encoded data removed]",
            "text/plain": [
              "<Figure size 864x576 with 1 Axes>"
            ]
          },
          "metadata": {},
          "output_type": "display_data"
        }
      ],
      "source": [
        "fig, ax = plt.subplots(1, 1, figsize=(12,8))\n",
        "p = sns.scatterplot(x=df['skor-pengeluaran'], y=df['Umur'], hue = df['Kota'])"
      ]
    },
    {
      "cell_type": "code",
      "execution_count": null,
      "metadata": {
        "colab": {
          "background_save": true,
          "base_uri": "https://localhost:8080/",
          "height": 285
        },
        "id": "7S6RriwObEA9",
        "outputId": "39a35d5d-64bd-45ac-868d-0988f05501b8"
      },
      "outputs": [
        {
          "data": {
            "image/png": "[encoded data removed]",
            "text/plain": [
              "<Figure size 432x288 with 1 Axes>"
            ]
          },
          "metadata": {},
          "output_type": "display_data"
        }
      ],
      "source": [
        "p = sns.violinplot(x=\"Kota\", y=\"Umur\", data=df, palette='rainbow')"
      ]
    },
    {
      "cell_type": "markdown",
      "metadata": {
        "id": "44lzWaenox58"
      },
      "source": []
    },
    {
      "cell_type": "code",
      "execution_count": null,
      "metadata": {
        "colab": {
          "base_uri": "https://localhost:8080/",
          "height": 365
        },
        "id": "f45sZPPsbGtj",
        "outputId": "2275022a-5169-45ff-dbda-7b63ac65eb33"
      },
      "outputs": [
        {
          "data": {
            "image/png": "[encoded data removed]",
            "text/plain": [
              "<Figure size 360x360 with 1 Axes>"
            ]
          },
          "metadata": {},
          "output_type": "display_data"
        }
      ],
      "source": [
        "p = sns.catplot(x=\"Kota\", y=\"Umur\", kind=\"box\", data=df)"
      ]
    },
    {
      "cell_type": "markdown",
      "metadata": {
        "id": "zjGsXyOFnmzN"
      },
      "source": [
        "HARI FAVORIT"
      ]
    },
    {
      "cell_type": "code",
      "execution_count": null,
      "metadata": {
        "colab": {
          "base_uri": "https://localhost:8080/",
          "height": 296
        },
        "id": "KqmlxY26bJoZ",
        "outputId": "79d1fd52-fb03-4782-bb54-a770ad75faf8"
      },
      "outputs": [
        {
          "data": {
            "text/plain": [
              "<matplotlib.axes._subplots.AxesSubplot at 0x7f9c4c2fc0d0>"
            ]
          },
          "execution_count": 79,
          "metadata": {},
          "output_type": "execute_result"
        },
        {
          "data": {
            "image/png": "[encoded data removed]",
            "text/plain": [
              "<Figure size 432x288 with 1 Axes>"
            ]
          },
          "metadata": {},
          "output_type": "display_data"
        }
      ],
      "source": [
        "sns.countplot(x = \"HariFav\", data = df)"
      ]
    },
    {
      "cell_type": "markdown",
      "metadata": {
        "id": "YNbCsgRRnrtJ"
      },
      "source": [
        "Hari favorit pembeli paling banyak pada hari Senin, Sabtu dan Minggu. Sedangkan hari Jum'at, Kamis dan Rabu sedikit pembeli yang menyukainya.\n",
        "\n",
        "Insight: **Perbanyak pegawai dan stok** produk di hari **Senin, Sabtu dan Minggu**. Kebalikannya, kurangi shift pegawai di hari **rabu - jum'at**"
      ]
    },
    {
      "cell_type": "code",
      "execution_count": null,
      "metadata": {
        "colab": {
          "base_uri": "https://localhost:8080/",
          "height": 497
        },
        "id": "swztxFkRnzfH",
        "outputId": "ac98039d-79d0-4ac3-bccd-9984f17f9675"
      },
      "outputs": [
        {
          "data": {
            "image/png": "[encoded data removed]",
            "text/plain": [
              "<Figure size 864x576 with 1 Axes>"
            ]
          },
          "metadata": {},
          "output_type": "display_data"
        }
      ],
      "source": [
        "fig, ax = plt.subplots(1, 1, figsize=(12,8))\n",
        "ax = sns.countplot(y = 'Kota', hue = 'HariFav', palette = 'muted', data=df)"
      ]
    },
    {
      "cell_type": "markdown",
      "metadata": {
        "id": "PlRBG3Stn26R"
      },
      "source": [
        "Di **Kota Depok**, pembeli **sering berkunjung** pada hari **Senin**. Oleh karena itu, perbanyak pegawai dan stok es krim pada hari Senin. Untuk **hari yang sepi**, yaitu hari **Rabu, Jum'at dan Kamis**, bisa dibuat promo untuk es krim yang rasanya paling favorit (kita tahu vanilla rasa yang paling laku di Depok)\n",
        "\n",
        "Untuk **Kota Jakarta**, pembeli **sering berkunjung** pada hari **Minggu, Sabtu, dan Senin**. Oleh karena itu, perbanyak pegawai dan stok es krim pada hari tersebut. Untuk **hari yang sepi**, yaitu hari **Rabu, Jum'at dan Kamis**, bisa dibuat promo.\n",
        "\n",
        "Untuk **Kota Tangerang**, pembeli **sering berkunjung** pada hari **Sabtu, Senin dan Minggu**. Oleh karena itu, perbanyak pegawai dan stok es krim pada hari tersebut. Untuk **hari yang sepi**, yaitu hari **Rabu, Kamis dan Jum'at**, bisa dibuat promo."
      ]
    },
    {
      "cell_type": "markdown",
      "metadata": {
        "id": "DVqFYrM8gVwL"
      },
      "source": [
        "# CLUSTERING (MARKET SEGMENTATION)"
      ]
    },
    {
      "cell_type": "markdown",
      "metadata": {
        "id": "9NEVRacTge_4"
      },
      "source": [
        "Akan dilakukan clustering untuk dapat melakukan market segmentation. Hal ini \n",
        "dilakukan untuk meningkatkan efektivitas strategi pemasaran produk ataupun layanan dari MixITup. Clustering akan dilakukan dengan metode K-Means"
      ]
    },
    {
      "cell_type": "markdown",
      "metadata": {
        "id": "YBy985Jugh5g"
      },
      "source": [
        "Akan diimport beberapa module yang dibutuhkan terlebih dahulu."
      ]
    },
    {
      "cell_type": "code",
      "execution_count": null,
      "metadata": {
        "colab": {
          "base_uri": "https://localhost:8080/"
        },
        "id": "_YPcoZLNgZpz",
        "outputId": "831b96e9-43a8-4659-ea7b-b434a81f1868"
      },
      "outputs": [
        {
          "name": "stdout",
          "output_type": "stream",
          "text": [
            "Installing the required modules\n",
            "Looking in indexes: https://pypi.org/simple, https://us-python.pkg.dev/colab-wheels/public/simple/\n",
            "Requirement already satisfied: umap-learn in /usr/local/lib/python3.7/dist-packages (0.5.3)\n",
            "Requirement already satisfied: numpy>=1.17 in /usr/local/lib/python3.7/dist-packages (from umap-learn) (1.21.6)\n",
            "Requirement already satisfied: tqdm in /usr/local/lib/python3.7/dist-packages (from umap-learn) (4.64.1)\n",
            "Requirement already satisfied: numba>=0.49 in /usr/local/lib/python3.7/dist-packages (from umap-learn) (0.56.2)\n",
            "Requirement already satisfied: scikit-learn>=0.22 in /usr/local/lib/python3.7/dist-packages (from umap-learn) (1.0.2)\n",
            "Requirement already satisfied: scipy>=1.0 in /usr/local/lib/python3.7/dist-packages (from umap-learn) (1.7.3)\n",
            "Requirement already satisfied: pynndescent>=0.5 in /usr/local/lib/python3.7/dist-packages (from umap-learn) (0.5.7)\n",
            "Requirement already satisfied: importlib-metadata in /usr/local/lib/python3.7/dist-packages (from numba>=0.49->umap-learn) (5.0.0)\n",
            "Requirement already satisfied: setuptools<60 in /usr/local/lib/python3.7/dist-packages (from numba>=0.49->umap-learn) (57.4.0)\n",
            "Requirement already satisfied: llvmlite<0.40,>=0.39.0dev0 in /usr/local/lib/python3.7/dist-packages (from numba>=0.49->umap-learn) (0.39.1)\n",
            "Requirement already satisfied: joblib>=0.11 in /usr/local/lib/python3.7/dist-packages (from pynndescent>=0.5->umap-learn) (1.2.0)\n",
            "Requirement already satisfied: threadpoolctl>=2.0.0 in /usr/local/lib/python3.7/dist-packages (from scikit-learn>=0.22->umap-learn) (3.1.0)\n",
            "Requirement already satisfied: zipp>=0.5 in /usr/local/lib/python3.7/dist-packages (from importlib-metadata->numba>=0.49->umap-learn) (3.8.1)\n",
            "Requirement already satisfied: typing-extensions>=3.6.4 in /usr/local/lib/python3.7/dist-packages (from importlib-metadata->numba>=0.49->umap-learn) (4.1.1)\n",
            "--2022-10-07 08:20:15--  https://raw.githubusercontent.com/taudata-indonesia/eLearning/master/tau_unsup.py\n",
            "Resolving raw.githubusercontent.com (raw.githubusercontent.com)... 185.199.111.133, 185.199.110.133, 185.199.109.133, ...\n",
            "Connecting to raw.githubusercontent.com (raw.githubusercontent.com)|185.199.111.133|:443... connected.\n",
            "HTTP request sent, awaiting response... 200 OK\n",
            "Length: 17387 (17K) [text/plain]\n",
            "Saving to: ‘tau_unsup.py.2’\n",
            "\n",
            "tau_unsup.py.2      100%[===================>]  16.98K  --.-KB/s    in 0s      \n",
            "\n",
            "2022-10-07 08:20:15 (98.1 MB/s) - ‘tau_unsup.py.2’ saved [17387/17387]\n",
            "\n"
          ]
        }
      ],
      "source": [
        "import warnings; warnings.simplefilter('ignore')\n",
        "\n",
        "try:\n",
        "    import google.colab; IN_COLAB = True\n",
        "    print(\"Installing the required modules\")\n",
        "    !pip install --upgrade umap-learn\n",
        "    !wget https://raw.githubusercontent.com/taudata-indonesia/eLearning/master/tau_unsup.py\n",
        "except:\n",
        "    IN_COLAB = False\n",
        "    print(\"Running the code locally, please make sure all the python module versions agree with colab environment and all data/assets downloaded\")"
      ]
    },
    {
      "cell_type": "code",
      "execution_count": null,
      "metadata": {
        "id": "gSCR6bgIgkmd"
      },
      "outputs": [],
      "source": [
        "# Importing Modules untuk Mengcluste di notebook ini\n",
        "import warnings; warnings.simplefilter('ignore')\n",
        "import umap, numpy as np, tau_unsup as tau, matplotlib.pyplot as plt, pandas as pd, seaborn as sns\n",
        "from sklearn import cluster, datasets\n",
        "from sklearn.metrics import silhouette_score as siluet\n",
        "from sklearn.metrics.cluster import homogeneity_score as purity\n",
        "from sklearn.metrics import normalized_mutual_info_score as NMI \n",
        "\n",
        "sns.set(style=\"ticks\", color_codes=True)\n",
        "random_state = 99"
      ]
    },
    {
      "cell_type": "markdown",
      "metadata": {
        "id": "_I3qR-VJgsaS"
      },
      "source": [
        "Perhatikan bahwa terdapat variabel kategorik Jenis Kelamin, Menikah, Kota, Promo, HariFav, dan FavFlavor, sehingga akan dilakukan transformasi terlebih dahulu menggunakan one hot encoding agar dapat dilakukan perhitungan pada algoritma K-Means, sebagai berikut."
      ]
    },
    {
      "cell_type": "code",
      "execution_count": null,
      "metadata": {
        "colab": {
          "base_uri": "https://localhost:8080/",
          "height": 1000
        },
        "id": "ZRJ_83jzgqcc",
        "outputId": "f21b8716-5bdf-40bc-dc76-d37a73ea106b"
      },
      "outputs": [
        {
          "data": {
            "text/html": [
              "\n",
              "  <div id=\"df-8f13737e-c424-43b1-9165-e760bd1f7c37\">\n",
              "    <div class=\"colab-df-container\">\n",
              "      <div>\n",
              "<style scoped>\n",
              "    .dataframe tbody tr th:only-of-type {\n",
              "        vertical-align: middle;\n",
              "    }\n",
              "\n",
              "    .dataframe tbody tr th {\n",
              "        vertical-align: top;\n",
              "    }\n",
              "\n",
              "    .dataframe thead th {\n",
              "        text-align: right;\n",
              "    }\n",
              "</style>\n",
              "<table border=\"1\" class=\"dataframe\">\n",
              "  <thead>\n",
              "    <tr style=\"text-align: right;\">\n",
              "      <th></th>\n",
              "      <th>0</th>\n",
              "      <th>1</th>\n",
              "      <th>2</th>\n",
              "      <th>3</th>\n",
              "      <th>4</th>\n",
              "      <th>5</th>\n",
              "      <th>6</th>\n",
              "      <th>7</th>\n",
              "      <th>8</th>\n",
              "      <th>9</th>\n",
              "      <th>...</th>\n",
              "      <th>188</th>\n",
              "      <th>189</th>\n",
              "      <th>191</th>\n",
              "      <th>192</th>\n",
              "      <th>193</th>\n",
              "      <th>195</th>\n",
              "      <th>196</th>\n",
              "      <th>197</th>\n",
              "      <th>198</th>\n",
              "      <th>199</th>\n",
              "    </tr>\n",
              "  </thead>\n",
              "  <tbody>\n",
              "    <tr>\n",
              "      <th>Umur</th>\n",
              "      <td>49.0</td>\n",
              "      <td>32.0</td>\n",
              "      <td>51.0</td>\n",
              "      <td>19.0</td>\n",
              "      <td>38.0</td>\n",
              "      <td>33.0</td>\n",
              "      <td>27.0</td>\n",
              "      <td>24.0</td>\n",
              "      <td>32.0</td>\n",
              "      <td>21.0</td>\n",
              "      <td>...</td>\n",
              "      <td>56.0</td>\n",
              "      <td>57.0</td>\n",
              "      <td>22.0</td>\n",
              "      <td>31.0</td>\n",
              "      <td>54.0</td>\n",
              "      <td>31.0</td>\n",
              "      <td>57.0</td>\n",
              "      <td>35.0</td>\n",
              "      <td>23.0</td>\n",
              "      <td>50.0</td>\n",
              "    </tr>\n",
              "    <tr>\n",
              "      <th>Pendapatan-per-bulan</th>\n",
              "      <td>13114754.0</td>\n",
              "      <td>33606557.0</td>\n",
              "      <td>15983606.0</td>\n",
              "      <td>12704918.0</td>\n",
              "      <td>20081967.0</td>\n",
              "      <td>29098360.0</td>\n",
              "      <td>21311475.0</td>\n",
              "      <td>2049180.0</td>\n",
              "      <td>13524590.0</td>\n",
              "      <td>19262295.0</td>\n",
              "      <td>...</td>\n",
              "      <td>11885245.0</td>\n",
              "      <td>12704918.0</td>\n",
              "      <td>819672.0</td>\n",
              "      <td>22540983.0</td>\n",
              "      <td>19672131.0</td>\n",
              "      <td>4098360.0</td>\n",
              "      <td>15983606.0</td>\n",
              "      <td>43032786.0</td>\n",
              "      <td>1229508.0</td>\n",
              "      <td>1639344.0</td>\n",
              "    </tr>\n",
              "    <tr>\n",
              "      <th>skor-pengeluaran</th>\n",
              "      <td>52.0</td>\n",
              "      <td>86.0</td>\n",
              "      <td>41.0</td>\n",
              "      <td>55.0</td>\n",
              "      <td>42.0</td>\n",
              "      <td>95.0</td>\n",
              "      <td>56.0</td>\n",
              "      <td>77.0</td>\n",
              "      <td>47.0</td>\n",
              "      <td>42.0</td>\n",
              "      <td>...</td>\n",
              "      <td>46.0</td>\n",
              "      <td>56.0</td>\n",
              "      <td>76.0</td>\n",
              "      <td>77.0</td>\n",
              "      <td>46.0</td>\n",
              "      <td>73.0</td>\n",
              "      <td>51.0</td>\n",
              "      <td>79.0</td>\n",
              "      <td>94.0</td>\n",
              "      <td>14.0</td>\n",
              "    </tr>\n",
              "    <tr>\n",
              "      <th>Jenis Kelamin_Pria</th>\n",
              "      <td>0.0</td>\n",
              "      <td>0.0</td>\n",
              "      <td>1.0</td>\n",
              "      <td>1.0</td>\n",
              "      <td>0.0</td>\n",
              "      <td>0.0</td>\n",
              "      <td>1.0</td>\n",
              "      <td>0.0</td>\n",
              "      <td>0.0</td>\n",
              "      <td>0.0</td>\n",
              "      <td>...</td>\n",
              "      <td>1.0</td>\n",
              "      <td>1.0</td>\n",
              "      <td>0.0</td>\n",
              "      <td>0.0</td>\n",
              "      <td>1.0</td>\n",
              "      <td>1.0</td>\n",
              "      <td>1.0</td>\n",
              "      <td>0.0</td>\n",
              "      <td>0.0</td>\n",
              "      <td>1.0</td>\n",
              "    </tr>\n",
              "    <tr>\n",
              "      <th>Jenis Kelamin_Wanita</th>\n",
              "      <td>1.0</td>\n",
              "      <td>1.0</td>\n",
              "      <td>0.0</td>\n",
              "      <td>0.0</td>\n",
              "      <td>1.0</td>\n",
              "      <td>1.0</td>\n",
              "      <td>0.0</td>\n",
              "      <td>1.0</td>\n",
              "      <td>1.0</td>\n",
              "      <td>1.0</td>\n",
              "      <td>...</td>\n",
              "      <td>0.0</td>\n",
              "      <td>0.0</td>\n",
              "      <td>1.0</td>\n",
              "      <td>1.0</td>\n",
              "      <td>0.0</td>\n",
              "      <td>0.0</td>\n",
              "      <td>0.0</td>\n",
              "      <td>1.0</td>\n",
              "      <td>1.0</td>\n",
              "      <td>0.0</td>\n",
              "    </tr>\n",
              "    <tr>\n",
              "      <th>Menikah_0</th>\n",
              "      <td>0.0</td>\n",
              "      <td>0.0</td>\n",
              "      <td>0.0</td>\n",
              "      <td>1.0</td>\n",
              "      <td>0.0</td>\n",
              "      <td>0.0</td>\n",
              "      <td>0.0</td>\n",
              "      <td>0.0</td>\n",
              "      <td>0.0</td>\n",
              "      <td>0.0</td>\n",
              "      <td>...</td>\n",
              "      <td>0.0</td>\n",
              "      <td>0.0</td>\n",
              "      <td>0.0</td>\n",
              "      <td>0.0</td>\n",
              "      <td>0.0</td>\n",
              "      <td>0.0</td>\n",
              "      <td>0.0</td>\n",
              "      <td>0.0</td>\n",
              "      <td>0.0</td>\n",
              "      <td>0.0</td>\n",
              "    </tr>\n",
              "    <tr>\n",
              "      <th>Menikah_1</th>\n",
              "      <td>1.0</td>\n",
              "      <td>1.0</td>\n",
              "      <td>1.0</td>\n",
              "      <td>0.0</td>\n",
              "      <td>1.0</td>\n",
              "      <td>1.0</td>\n",
              "      <td>1.0</td>\n",
              "      <td>1.0</td>\n",
              "      <td>1.0</td>\n",
              "      <td>1.0</td>\n",
              "      <td>...</td>\n",
              "      <td>1.0</td>\n",
              "      <td>1.0</td>\n",
              "      <td>1.0</td>\n",
              "      <td>1.0</td>\n",
              "      <td>1.0</td>\n",
              "      <td>1.0</td>\n",
              "      <td>1.0</td>\n",
              "      <td>1.0</td>\n",
              "      <td>1.0</td>\n",
              "      <td>1.0</td>\n",
              "    </tr>\n",
              "    <tr>\n",
              "      <th>Kota_Depok</th>\n",
              "      <td>0.0</td>\n",
              "      <td>1.0</td>\n",
              "      <td>0.0</td>\n",
              "      <td>0.0</td>\n",
              "      <td>0.0</td>\n",
              "      <td>1.0</td>\n",
              "      <td>0.0</td>\n",
              "      <td>1.0</td>\n",
              "      <td>0.0</td>\n",
              "      <td>0.0</td>\n",
              "      <td>...</td>\n",
              "      <td>0.0</td>\n",
              "      <td>0.0</td>\n",
              "      <td>1.0</td>\n",
              "      <td>1.0</td>\n",
              "      <td>0.0</td>\n",
              "      <td>1.0</td>\n",
              "      <td>0.0</td>\n",
              "      <td>1.0</td>\n",
              "      <td>1.0</td>\n",
              "      <td>0.0</td>\n",
              "    </tr>\n",
              "    <tr>\n",
              "      <th>Kota_Jakarta</th>\n",
              "      <td>1.0</td>\n",
              "      <td>0.0</td>\n",
              "      <td>1.0</td>\n",
              "      <td>1.0</td>\n",
              "      <td>1.0</td>\n",
              "      <td>0.0</td>\n",
              "      <td>1.0</td>\n",
              "      <td>0.0</td>\n",
              "      <td>1.0</td>\n",
              "      <td>1.0</td>\n",
              "      <td>...</td>\n",
              "      <td>1.0</td>\n",
              "      <td>1.0</td>\n",
              "      <td>0.0</td>\n",
              "      <td>0.0</td>\n",
              "      <td>1.0</td>\n",
              "      <td>0.0</td>\n",
              "      <td>1.0</td>\n",
              "      <td>0.0</td>\n",
              "      <td>0.0</td>\n",
              "      <td>0.0</td>\n",
              "    </tr>\n",
              "    <tr>\n",
              "      <th>Kota_Tangerang</th>\n",
              "      <td>0.0</td>\n",
              "      <td>0.0</td>\n",
              "      <td>0.0</td>\n",
              "      <td>0.0</td>\n",
              "      <td>0.0</td>\n",
              "      <td>0.0</td>\n",
              "      <td>0.0</td>\n",
              "      <td>0.0</td>\n",
              "      <td>0.0</td>\n",
              "      <td>0.0</td>\n",
              "      <td>...</td>\n",
              "      <td>0.0</td>\n",
              "      <td>0.0</td>\n",
              "      <td>0.0</td>\n",
              "      <td>0.0</td>\n",
              "      <td>0.0</td>\n",
              "      <td>0.0</td>\n",
              "      <td>0.0</td>\n",
              "      <td>0.0</td>\n",
              "      <td>0.0</td>\n",
              "      <td>1.0</td>\n",
              "    </tr>\n",
              "    <tr>\n",
              "      <th>Promo_0.0</th>\n",
              "      <td>0.0</td>\n",
              "      <td>0.0</td>\n",
              "      <td>0.0</td>\n",
              "      <td>0.0</td>\n",
              "      <td>0.0</td>\n",
              "      <td>1.0</td>\n",
              "      <td>0.0</td>\n",
              "      <td>0.0</td>\n",
              "      <td>0.0</td>\n",
              "      <td>0.0</td>\n",
              "      <td>...</td>\n",
              "      <td>0.0</td>\n",
              "      <td>0.0</td>\n",
              "      <td>0.0</td>\n",
              "      <td>0.0</td>\n",
              "      <td>0.0</td>\n",
              "      <td>0.0</td>\n",
              "      <td>0.0</td>\n",
              "      <td>0.0</td>\n",
              "      <td>1.0</td>\n",
              "      <td>0.0</td>\n",
              "    </tr>\n",
              "    <tr>\n",
              "      <th>Promo_1.0</th>\n",
              "      <td>1.0</td>\n",
              "      <td>1.0</td>\n",
              "      <td>0.0</td>\n",
              "      <td>1.0</td>\n",
              "      <td>0.0</td>\n",
              "      <td>0.0</td>\n",
              "      <td>1.0</td>\n",
              "      <td>1.0</td>\n",
              "      <td>0.0</td>\n",
              "      <td>0.0</td>\n",
              "      <td>...</td>\n",
              "      <td>0.0</td>\n",
              "      <td>1.0</td>\n",
              "      <td>1.0</td>\n",
              "      <td>1.0</td>\n",
              "      <td>0.0</td>\n",
              "      <td>1.0</td>\n",
              "      <td>1.0</td>\n",
              "      <td>1.0</td>\n",
              "      <td>0.0</td>\n",
              "      <td>0.0</td>\n",
              "    </tr>\n",
              "    <tr>\n",
              "      <th>Promo_2.0</th>\n",
              "      <td>0.0</td>\n",
              "      <td>0.0</td>\n",
              "      <td>1.0</td>\n",
              "      <td>0.0</td>\n",
              "      <td>1.0</td>\n",
              "      <td>0.0</td>\n",
              "      <td>0.0</td>\n",
              "      <td>0.0</td>\n",
              "      <td>1.0</td>\n",
              "      <td>1.0</td>\n",
              "      <td>...</td>\n",
              "      <td>1.0</td>\n",
              "      <td>0.0</td>\n",
              "      <td>0.0</td>\n",
              "      <td>0.0</td>\n",
              "      <td>1.0</td>\n",
              "      <td>0.0</td>\n",
              "      <td>0.0</td>\n",
              "      <td>0.0</td>\n",
              "      <td>0.0</td>\n",
              "      <td>0.0</td>\n",
              "    </tr>\n",
              "    <tr>\n",
              "      <th>Promo_3.0</th>\n",
              "      <td>0.0</td>\n",
              "      <td>0.0</td>\n",
              "      <td>0.0</td>\n",
              "      <td>0.0</td>\n",
              "      <td>0.0</td>\n",
              "      <td>0.0</td>\n",
              "      <td>0.0</td>\n",
              "      <td>0.0</td>\n",
              "      <td>0.0</td>\n",
              "      <td>0.0</td>\n",
              "      <td>...</td>\n",
              "      <td>0.0</td>\n",
              "      <td>0.0</td>\n",
              "      <td>0.0</td>\n",
              "      <td>0.0</td>\n",
              "      <td>0.0</td>\n",
              "      <td>0.0</td>\n",
              "      <td>0.0</td>\n",
              "      <td>0.0</td>\n",
              "      <td>0.0</td>\n",
              "      <td>1.0</td>\n",
              "    </tr>\n",
              "    <tr>\n",
              "      <th>Promo_5.0</th>\n",
              "      <td>0.0</td>\n",
              "      <td>0.0</td>\n",
              "      <td>0.0</td>\n",
              "      <td>0.0</td>\n",
              "      <td>0.0</td>\n",
              "      <td>0.0</td>\n",
              "      <td>0.0</td>\n",
              "      <td>0.0</td>\n",
              "      <td>0.0</td>\n",
              "      <td>0.0</td>\n",
              "      <td>...</td>\n",
              "      <td>0.0</td>\n",
              "      <td>0.0</td>\n",
              "      <td>0.0</td>\n",
              "      <td>0.0</td>\n",
              "      <td>0.0</td>\n",
              "      <td>0.0</td>\n",
              "      <td>0.0</td>\n",
              "      <td>0.0</td>\n",
              "      <td>0.0</td>\n",
              "      <td>0.0</td>\n",
              "    </tr>\n",
              "    <tr>\n",
              "      <th>HariFav_Jumat</th>\n",
              "      <td>0.0</td>\n",
              "      <td>0.0</td>\n",
              "      <td>0.0</td>\n",
              "      <td>0.0</td>\n",
              "      <td>0.0</td>\n",
              "      <td>0.0</td>\n",
              "      <td>0.0</td>\n",
              "      <td>0.0</td>\n",
              "      <td>0.0</td>\n",
              "      <td>0.0</td>\n",
              "      <td>...</td>\n",
              "      <td>0.0</td>\n",
              "      <td>0.0</td>\n",
              "      <td>0.0</td>\n",
              "      <td>0.0</td>\n",
              "      <td>0.0</td>\n",
              "      <td>0.0</td>\n",
              "      <td>0.0</td>\n",
              "      <td>0.0</td>\n",
              "      <td>0.0</td>\n",
              "      <td>0.0</td>\n",
              "    </tr>\n",
              "    <tr>\n",
              "      <th>HariFav_Kamis</th>\n",
              "      <td>0.0</td>\n",
              "      <td>0.0</td>\n",
              "      <td>0.0</td>\n",
              "      <td>0.0</td>\n",
              "      <td>0.0</td>\n",
              "      <td>0.0</td>\n",
              "      <td>0.0</td>\n",
              "      <td>0.0</td>\n",
              "      <td>0.0</td>\n",
              "      <td>0.0</td>\n",
              "      <td>...</td>\n",
              "      <td>0.0</td>\n",
              "      <td>0.0</td>\n",
              "      <td>0.0</td>\n",
              "      <td>0.0</td>\n",
              "      <td>0.0</td>\n",
              "      <td>0.0</td>\n",
              "      <td>0.0</td>\n",
              "      <td>0.0</td>\n",
              "      <td>0.0</td>\n",
              "      <td>0.0</td>\n",
              "    </tr>\n",
              "    <tr>\n",
              "      <th>HariFav_Minggu</th>\n",
              "      <td>0.0</td>\n",
              "      <td>1.0</td>\n",
              "      <td>1.0</td>\n",
              "      <td>0.0</td>\n",
              "      <td>0.0</td>\n",
              "      <td>0.0</td>\n",
              "      <td>0.0</td>\n",
              "      <td>0.0</td>\n",
              "      <td>0.0</td>\n",
              "      <td>0.0</td>\n",
              "      <td>...</td>\n",
              "      <td>0.0</td>\n",
              "      <td>1.0</td>\n",
              "      <td>0.0</td>\n",
              "      <td>0.0</td>\n",
              "      <td>0.0</td>\n",
              "      <td>0.0</td>\n",
              "      <td>1.0</td>\n",
              "      <td>0.0</td>\n",
              "      <td>0.0</td>\n",
              "      <td>1.0</td>\n",
              "    </tr>\n",
              "    <tr>\n",
              "      <th>HariFav_Rabu</th>\n",
              "      <td>0.0</td>\n",
              "      <td>0.0</td>\n",
              "      <td>0.0</td>\n",
              "      <td>1.0</td>\n",
              "      <td>0.0</td>\n",
              "      <td>0.0</td>\n",
              "      <td>0.0</td>\n",
              "      <td>0.0</td>\n",
              "      <td>0.0</td>\n",
              "      <td>0.0</td>\n",
              "      <td>...</td>\n",
              "      <td>0.0</td>\n",
              "      <td>0.0</td>\n",
              "      <td>0.0</td>\n",
              "      <td>0.0</td>\n",
              "      <td>0.0</td>\n",
              "      <td>0.0</td>\n",
              "      <td>0.0</td>\n",
              "      <td>0.0</td>\n",
              "      <td>0.0</td>\n",
              "      <td>0.0</td>\n",
              "    </tr>\n",
              "    <tr>\n",
              "      <th>HariFav_Sabtu</th>\n",
              "      <td>1.0</td>\n",
              "      <td>0.0</td>\n",
              "      <td>0.0</td>\n",
              "      <td>0.0</td>\n",
              "      <td>0.0</td>\n",
              "      <td>0.0</td>\n",
              "      <td>0.0</td>\n",
              "      <td>0.0</td>\n",
              "      <td>0.0</td>\n",
              "      <td>0.0</td>\n",
              "      <td>...</td>\n",
              "      <td>1.0</td>\n",
              "      <td>0.0</td>\n",
              "      <td>0.0</td>\n",
              "      <td>0.0</td>\n",
              "      <td>1.0</td>\n",
              "      <td>0.0</td>\n",
              "      <td>0.0</td>\n",
              "      <td>0.0</td>\n",
              "      <td>0.0</td>\n",
              "      <td>0.0</td>\n",
              "    </tr>\n",
              "    <tr>\n",
              "      <th>HariFav_Selasa</th>\n",
              "      <td>0.0</td>\n",
              "      <td>0.0</td>\n",
              "      <td>0.0</td>\n",
              "      <td>0.0</td>\n",
              "      <td>0.0</td>\n",
              "      <td>0.0</td>\n",
              "      <td>0.0</td>\n",
              "      <td>0.0</td>\n",
              "      <td>1.0</td>\n",
              "      <td>0.0</td>\n",
              "      <td>...</td>\n",
              "      <td>0.0</td>\n",
              "      <td>0.0</td>\n",
              "      <td>0.0</td>\n",
              "      <td>0.0</td>\n",
              "      <td>0.0</td>\n",
              "      <td>0.0</td>\n",
              "      <td>0.0</td>\n",
              "      <td>0.0</td>\n",
              "      <td>1.0</td>\n",
              "      <td>0.0</td>\n",
              "    </tr>\n",
              "    <tr>\n",
              "      <th>HariFav_Senin</th>\n",
              "      <td>0.0</td>\n",
              "      <td>0.0</td>\n",
              "      <td>0.0</td>\n",
              "      <td>0.0</td>\n",
              "      <td>1.0</td>\n",
              "      <td>1.0</td>\n",
              "      <td>1.0</td>\n",
              "      <td>1.0</td>\n",
              "      <td>0.0</td>\n",
              "      <td>1.0</td>\n",
              "      <td>...</td>\n",
              "      <td>0.0</td>\n",
              "      <td>0.0</td>\n",
              "      <td>1.0</td>\n",
              "      <td>1.0</td>\n",
              "      <td>0.0</td>\n",
              "      <td>1.0</td>\n",
              "      <td>0.0</td>\n",
              "      <td>1.0</td>\n",
              "      <td>0.0</td>\n",
              "      <td>0.0</td>\n",
              "    </tr>\n",
              "    <tr>\n",
              "      <th>FavFlavor_0</th>\n",
              "      <td>0.0</td>\n",
              "      <td>0.0</td>\n",
              "      <td>0.0</td>\n",
              "      <td>0.0</td>\n",
              "      <td>0.0</td>\n",
              "      <td>1.0</td>\n",
              "      <td>0.0</td>\n",
              "      <td>0.0</td>\n",
              "      <td>0.0</td>\n",
              "      <td>0.0</td>\n",
              "      <td>...</td>\n",
              "      <td>0.0</td>\n",
              "      <td>0.0</td>\n",
              "      <td>1.0</td>\n",
              "      <td>0.0</td>\n",
              "      <td>0.0</td>\n",
              "      <td>1.0</td>\n",
              "      <td>0.0</td>\n",
              "      <td>0.0</td>\n",
              "      <td>1.0</td>\n",
              "      <td>0.0</td>\n",
              "    </tr>\n",
              "    <tr>\n",
              "      <th>FavFlavor_1</th>\n",
              "      <td>0.0</td>\n",
              "      <td>0.0</td>\n",
              "      <td>0.0</td>\n",
              "      <td>0.0</td>\n",
              "      <td>0.0</td>\n",
              "      <td>0.0</td>\n",
              "      <td>0.0</td>\n",
              "      <td>0.0</td>\n",
              "      <td>0.0</td>\n",
              "      <td>0.0</td>\n",
              "      <td>...</td>\n",
              "      <td>0.0</td>\n",
              "      <td>0.0</td>\n",
              "      <td>0.0</td>\n",
              "      <td>0.0</td>\n",
              "      <td>0.0</td>\n",
              "      <td>0.0</td>\n",
              "      <td>0.0</td>\n",
              "      <td>0.0</td>\n",
              "      <td>0.0</td>\n",
              "      <td>0.0</td>\n",
              "    </tr>\n",
              "    <tr>\n",
              "      <th>FavFlavor_2</th>\n",
              "      <td>1.0</td>\n",
              "      <td>0.0</td>\n",
              "      <td>0.0</td>\n",
              "      <td>0.0</td>\n",
              "      <td>0.0</td>\n",
              "      <td>0.0</td>\n",
              "      <td>0.0</td>\n",
              "      <td>0.0</td>\n",
              "      <td>0.0</td>\n",
              "      <td>0.0</td>\n",
              "      <td>...</td>\n",
              "      <td>0.0</td>\n",
              "      <td>0.0</td>\n",
              "      <td>0.0</td>\n",
              "      <td>0.0</td>\n",
              "      <td>0.0</td>\n",
              "      <td>0.0</td>\n",
              "      <td>0.0</td>\n",
              "      <td>0.0</td>\n",
              "      <td>0.0</td>\n",
              "      <td>0.0</td>\n",
              "    </tr>\n",
              "    <tr>\n",
              "      <th>FavFlavor_3</th>\n",
              "      <td>0.0</td>\n",
              "      <td>0.0</td>\n",
              "      <td>1.0</td>\n",
              "      <td>0.0</td>\n",
              "      <td>0.0</td>\n",
              "      <td>0.0</td>\n",
              "      <td>0.0</td>\n",
              "      <td>1.0</td>\n",
              "      <td>0.0</td>\n",
              "      <td>0.0</td>\n",
              "      <td>...</td>\n",
              "      <td>0.0</td>\n",
              "      <td>0.0</td>\n",
              "      <td>0.0</td>\n",
              "      <td>0.0</td>\n",
              "      <td>1.0</td>\n",
              "      <td>0.0</td>\n",
              "      <td>0.0</td>\n",
              "      <td>0.0</td>\n",
              "      <td>0.0</td>\n",
              "      <td>0.0</td>\n",
              "    </tr>\n",
              "    <tr>\n",
              "      <th>FavFlavor_4</th>\n",
              "      <td>0.0</td>\n",
              "      <td>0.0</td>\n",
              "      <td>0.0</td>\n",
              "      <td>0.0</td>\n",
              "      <td>0.0</td>\n",
              "      <td>0.0</td>\n",
              "      <td>0.0</td>\n",
              "      <td>0.0</td>\n",
              "      <td>0.0</td>\n",
              "      <td>1.0</td>\n",
              "      <td>...</td>\n",
              "      <td>1.0</td>\n",
              "      <td>0.0</td>\n",
              "      <td>0.0</td>\n",
              "      <td>1.0</td>\n",
              "      <td>0.0</td>\n",
              "      <td>0.0</td>\n",
              "      <td>0.0</td>\n",
              "      <td>0.0</td>\n",
              "      <td>0.0</td>\n",
              "      <td>0.0</td>\n",
              "    </tr>\n",
              "    <tr>\n",
              "      <th>FavFlavor_5</th>\n",
              "      <td>0.0</td>\n",
              "      <td>0.0</td>\n",
              "      <td>0.0</td>\n",
              "      <td>0.0</td>\n",
              "      <td>0.0</td>\n",
              "      <td>0.0</td>\n",
              "      <td>1.0</td>\n",
              "      <td>0.0</td>\n",
              "      <td>0.0</td>\n",
              "      <td>0.0</td>\n",
              "      <td>...</td>\n",
              "      <td>0.0</td>\n",
              "      <td>0.0</td>\n",
              "      <td>0.0</td>\n",
              "      <td>0.0</td>\n",
              "      <td>0.0</td>\n",
              "      <td>0.0</td>\n",
              "      <td>1.0</td>\n",
              "      <td>0.0</td>\n",
              "      <td>0.0</td>\n",
              "      <td>0.0</td>\n",
              "    </tr>\n",
              "    <tr>\n",
              "      <th>FavFlavor_6</th>\n",
              "      <td>0.0</td>\n",
              "      <td>1.0</td>\n",
              "      <td>0.0</td>\n",
              "      <td>0.0</td>\n",
              "      <td>0.0</td>\n",
              "      <td>0.0</td>\n",
              "      <td>0.0</td>\n",
              "      <td>0.0</td>\n",
              "      <td>1.0</td>\n",
              "      <td>0.0</td>\n",
              "      <td>...</td>\n",
              "      <td>0.0</td>\n",
              "      <td>0.0</td>\n",
              "      <td>0.0</td>\n",
              "      <td>0.0</td>\n",
              "      <td>0.0</td>\n",
              "      <td>0.0</td>\n",
              "      <td>0.0</td>\n",
              "      <td>0.0</td>\n",
              "      <td>0.0</td>\n",
              "      <td>1.0</td>\n",
              "    </tr>\n",
              "    <tr>\n",
              "      <th>FavFlavor_7</th>\n",
              "      <td>0.0</td>\n",
              "      <td>0.0</td>\n",
              "      <td>0.0</td>\n",
              "      <td>1.0</td>\n",
              "      <td>0.0</td>\n",
              "      <td>0.0</td>\n",
              "      <td>0.0</td>\n",
              "      <td>0.0</td>\n",
              "      <td>0.0</td>\n",
              "      <td>0.0</td>\n",
              "      <td>...</td>\n",
              "      <td>0.0</td>\n",
              "      <td>0.0</td>\n",
              "      <td>0.0</td>\n",
              "      <td>0.0</td>\n",
              "      <td>0.0</td>\n",
              "      <td>0.0</td>\n",
              "      <td>0.0</td>\n",
              "      <td>1.0</td>\n",
              "      <td>0.0</td>\n",
              "      <td>0.0</td>\n",
              "    </tr>\n",
              "    <tr>\n",
              "      <th>FavFlavor_8</th>\n",
              "      <td>0.0</td>\n",
              "      <td>0.0</td>\n",
              "      <td>0.0</td>\n",
              "      <td>0.0</td>\n",
              "      <td>1.0</td>\n",
              "      <td>0.0</td>\n",
              "      <td>0.0</td>\n",
              "      <td>0.0</td>\n",
              "      <td>0.0</td>\n",
              "      <td>0.0</td>\n",
              "      <td>...</td>\n",
              "      <td>0.0</td>\n",
              "      <td>1.0</td>\n",
              "      <td>0.0</td>\n",
              "      <td>0.0</td>\n",
              "      <td>0.0</td>\n",
              "      <td>0.0</td>\n",
              "      <td>0.0</td>\n",
              "      <td>0.0</td>\n",
              "      <td>0.0</td>\n",
              "      <td>0.0</td>\n",
              "    </tr>\n",
              "    <tr>\n",
              "      <th>FavFlavor_9</th>\n",
              "      <td>0.0</td>\n",
              "      <td>0.0</td>\n",
              "      <td>0.0</td>\n",
              "      <td>0.0</td>\n",
              "      <td>0.0</td>\n",
              "      <td>0.0</td>\n",
              "      <td>0.0</td>\n",
              "      <td>0.0</td>\n",
              "      <td>0.0</td>\n",
              "      <td>0.0</td>\n",
              "      <td>...</td>\n",
              "      <td>0.0</td>\n",
              "      <td>0.0</td>\n",
              "      <td>0.0</td>\n",
              "      <td>0.0</td>\n",
              "      <td>0.0</td>\n",
              "      <td>0.0</td>\n",
              "      <td>0.0</td>\n",
              "      <td>0.0</td>\n",
              "      <td>0.0</td>\n",
              "      <td>0.0</td>\n",
              "    </tr>\n",
              "  </tbody>\n",
              "</table>\n",
              "<p>32 rows × 182 columns</p>\n",
              "</div>\n",
              "      <button class=\"colab-df-convert\" onclick=\"convertToInteractive('df-8f13737e-c424-43b1-9165-e760bd1f7c37')\"\n",
              "              title=\"Convert this dataframe to an interactive table.\"\n",
              "              style=\"display:none;\">\n",
              "        \n",
              "  <svg xmlns=\"http://www.w3.org/2000/svg\" height=\"24px\"viewBox=\"0 0 24 24\"\n",
              "       width=\"24px\">\n",
              "    <path d=\"M0 0h24v24H0V0z\" fill=\"none\"/>\n",
              "    <path d=\"M18.56 5.44l.94 2.06.94-2.06 2.06-.94-2.06-.94-.94-2.06-.94 2.06-2.06.94zm-11 1L8.5 8.5l.94-2.06 2.06-.94-2.06-.94L8.5 2.5l-.94 2.06-2.06.94zm10 10l.94 2.06.94-2.06 2.06-.94-2.06-.94-.94-2.06-.94 2.06-2.06.94z\"/><path d=\"M17.41 7.96l-1.37-1.37c-.4-.4-.92-.59-1.43-.59-.52 0-1.04.2-1.43.59L10.3 9.45l-7.72 7.72c-.78.78-.78 2.05 0 2.83L4 21.41c.39.39.9.59 1.41.59.51 0 1.02-.2 1.41-.59l7.78-7.78 2.81-2.81c.8-.78.8-2.07 0-2.86zM5.41 20L4 18.59l7.72-7.72 1.47 1.35L5.41 20z\"/>\n",
              "  </svg>\n",
              "      </button>\n",
              "      \n",
              "  <style>\n",
              "    .colab-df-container {\n",
              "      display:flex;\n",
              "      flex-wrap:wrap;\n",
              "      gap: 12px;\n",
              "    }\n",
              "\n",
              "    .colab-df-convert {\n",
              "      background-color: #E8F0FE;\n",
              "      border: none;\n",
              "      border-radius: 50%;\n",
              "      cursor: pointer;\n",
              "      display: none;\n",
              "      fill: #1967D2;\n",
              "      height: 32px;\n",
              "      padding: 0 0 0 0;\n",
              "      width: 32px;\n",
              "    }\n",
              "\n",
              "    .colab-df-convert:hover {\n",
              "      background-color: #E2EBFA;\n",
              "      box-shadow: 0px 1px 2px rgba(60, 64, 67, 0.3), 0px 1px 3px 1px rgba(60, 64, 67, 0.15);\n",
              "      fill: #174EA6;\n",
              "    }\n",
              "\n",
              "    [theme=dark] .colab-df-convert {\n",
              "      background-color: #3B4455;\n",
              "      fill: #D2E3FC;\n",
              "    }\n",
              "\n",
              "    [theme=dark] .colab-df-convert:hover {\n",
              "      background-color: #434B5C;\n",
              "      box-shadow: 0px 1px 3px 1px rgba(0, 0, 0, 0.15);\n",
              "      filter: drop-shadow(0px 1px 2px rgba(0, 0, 0, 0.3));\n",
              "      fill: #FFFFFF;\n",
              "    }\n",
              "  </style>\n",
              "\n",
              "      <script>\n",
              "        const buttonEl =\n",
              "          document.querySelector('#df-8f13737e-c424-43b1-9165-e760bd1f7c37 button.colab-df-convert');\n",
              "        buttonEl.style.display =\n",
              "          google.colab.kernel.accessAllowed ? 'block' : 'none';\n",
              "\n",
              "        async function convertToInteractive(key) {\n",
              "          const element = document.querySelector('#df-8f13737e-c424-43b1-9165-e760bd1f7c37');\n",
              "          const dataTable =\n",
              "            await google.colab.kernel.invokeFunction('convertToInteractive',\n",
              "                                                     [key], {});\n",
              "          if (!dataTable) return;\n",
              "\n",
              "          const docLinkHtml = 'Like what you see? Visit the ' +\n",
              "            '<a target=\"_blank\" href=https://colab.research.google.com/notebooks/data_table.ipynb>data table notebook</a>'\n",
              "            + ' to learn more about interactive tables.';\n",
              "          element.innerHTML = '';\n",
              "          dataTable['output_type'] = 'display_data';\n",
              "          await google.colab.output.renderOutput(dataTable, element);\n",
              "          const docLink = document.createElement('div');\n",
              "          docLink.innerHTML = docLinkHtml;\n",
              "          element.appendChild(docLink);\n",
              "        }\n",
              "      </script>\n",
              "    </div>\n",
              "  </div>\n",
              "  "
            ],
            "text/plain": [
              "                             0           1           2           3    \\\n",
              "Umur                        49.0        32.0        51.0        19.0   \n",
              "Pendapatan-per-bulan  13114754.0  33606557.0  15983606.0  12704918.0   \n",
              "skor-pengeluaran            52.0        86.0        41.0        55.0   \n",
              "Jenis Kelamin_Pria           0.0         0.0         1.0         1.0   \n",
              "Jenis Kelamin_Wanita         1.0         1.0         0.0         0.0   \n",
              "Menikah_0                    0.0         0.0         0.0         1.0   \n",
              "Menikah_1                    1.0         1.0         1.0         0.0   \n",
              "Kota_Depok                   0.0         1.0         0.0         0.0   \n",
              "Kota_Jakarta                 1.0         0.0         1.0         1.0   \n",
              "Kota_Tangerang               0.0         0.0         0.0         0.0   \n",
              "Promo_0.0                    0.0         0.0         0.0         0.0   \n",
              "Promo_1.0                    1.0         1.0         0.0         1.0   \n",
              "Promo_2.0                    0.0         0.0         1.0         0.0   \n",
              "Promo_3.0                    0.0         0.0         0.0         0.0   \n",
              "Promo_5.0                    0.0         0.0         0.0         0.0   \n",
              "HariFav_Jumat                0.0         0.0         0.0         0.0   \n",
              "HariFav_Kamis                0.0         0.0         0.0         0.0   \n",
              "HariFav_Minggu               0.0         1.0         1.0         0.0   \n",
              "HariFav_Rabu                 0.0         0.0         0.0         1.0   \n",
              "HariFav_Sabtu                1.0         0.0         0.0         0.0   \n",
              "HariFav_Selasa               0.0         0.0         0.0         0.0   \n",
              "HariFav_Senin                0.0         0.0         0.0         0.0   \n",
              "FavFlavor_0                  0.0         0.0         0.0         0.0   \n",
              "FavFlavor_1                  0.0         0.0         0.0         0.0   \n",
              "FavFlavor_2                  1.0         0.0         0.0         0.0   \n",
              "FavFlavor_3                  0.0         0.0         1.0         0.0   \n",
              "FavFlavor_4                  0.0         0.0         0.0         0.0   \n",
              "FavFlavor_5                  0.0         0.0         0.0         0.0   \n",
              "FavFlavor_6                  0.0         1.0         0.0         0.0   \n",
              "FavFlavor_7                  0.0         0.0         0.0         1.0   \n",
              "FavFlavor_8                  0.0         0.0         0.0         0.0   \n",
              "FavFlavor_9                  0.0         0.0         0.0         0.0   \n",
              "\n",
              "                             4           5           6          7    \\\n",
              "Umur                        38.0        33.0        27.0       24.0   \n",
              "Pendapatan-per-bulan  20081967.0  29098360.0  21311475.0  2049180.0   \n",
              "skor-pengeluaran            42.0        95.0        56.0       77.0   \n",
              "Jenis Kelamin_Pria           0.0         0.0         1.0        0.0   \n",
              "Jenis Kelamin_Wanita         1.0         1.0         0.0        1.0   \n",
              "Menikah_0                    0.0         0.0         0.0        0.0   \n",
              "Menikah_1                    1.0         1.0         1.0        1.0   \n",
              "Kota_Depok                   0.0         1.0         0.0        1.0   \n",
              "Kota_Jakarta                 1.0         0.0         1.0        0.0   \n",
              "Kota_Tangerang               0.0         0.0         0.0        0.0   \n",
              "Promo_0.0                    0.0         1.0         0.0        0.0   \n",
              "Promo_1.0                    0.0         0.0         1.0        1.0   \n",
              "Promo_2.0                    1.0         0.0         0.0        0.0   \n",
              "Promo_3.0                    0.0         0.0         0.0        0.0   \n",
              "Promo_5.0                    0.0         0.0         0.0        0.0   \n",
              "HariFav_Jumat                0.0         0.0         0.0        0.0   \n",
              "HariFav_Kamis                0.0         0.0         0.0        0.0   \n",
              "HariFav_Minggu               0.0         0.0         0.0        0.0   \n",
              "HariFav_Rabu                 0.0         0.0         0.0        0.0   \n",
              "HariFav_Sabtu                0.0         0.0         0.0        0.0   \n",
              "HariFav_Selasa               0.0         0.0         0.0        0.0   \n",
              "HariFav_Senin                1.0         1.0         1.0        1.0   \n",
              "FavFlavor_0                  0.0         1.0         0.0        0.0   \n",
              "FavFlavor_1                  0.0         0.0         0.0        0.0   \n",
              "FavFlavor_2                  0.0         0.0         0.0        0.0   \n",
              "FavFlavor_3                  0.0         0.0         0.0        1.0   \n",
              "FavFlavor_4                  0.0         0.0         0.0        0.0   \n",
              "FavFlavor_5                  0.0         0.0         1.0        0.0   \n",
              "FavFlavor_6                  0.0         0.0         0.0        0.0   \n",
              "FavFlavor_7                  0.0         0.0         0.0        0.0   \n",
              "FavFlavor_8                  1.0         0.0         0.0        0.0   \n",
              "FavFlavor_9                  0.0         0.0         0.0        0.0   \n",
              "\n",
              "                             8           9    ...         188         189  \\\n",
              "Umur                        32.0        21.0  ...        56.0        57.0   \n",
              "Pendapatan-per-bulan  13524590.0  19262295.0  ...  11885245.0  12704918.0   \n",
              "skor-pengeluaran            47.0        42.0  ...        46.0        56.0   \n",
              "Jenis Kelamin_Pria           0.0         0.0  ...         1.0         1.0   \n",
              "Jenis Kelamin_Wanita         1.0         1.0  ...         0.0         0.0   \n",
              "Menikah_0                    0.0         0.0  ...         0.0         0.0   \n",
              "Menikah_1                    1.0         1.0  ...         1.0         1.0   \n",
              "Kota_Depok                   0.0         0.0  ...         0.0         0.0   \n",
              "Kota_Jakarta                 1.0         1.0  ...         1.0         1.0   \n",
              "Kota_Tangerang               0.0         0.0  ...         0.0         0.0   \n",
              "Promo_0.0                    0.0         0.0  ...         0.0         0.0   \n",
              "Promo_1.0                    0.0         0.0  ...         0.0         1.0   \n",
              "Promo_2.0                    1.0         1.0  ...         1.0         0.0   \n",
              "Promo_3.0                    0.0         0.0  ...         0.0         0.0   \n",
              "Promo_5.0                    0.0         0.0  ...         0.0         0.0   \n",
              "HariFav_Jumat                0.0         0.0  ...         0.0         0.0   \n",
              "HariFav_Kamis                0.0         0.0  ...         0.0         0.0   \n",
              "HariFav_Minggu               0.0         0.0  ...         0.0         1.0   \n",
              "HariFav_Rabu                 0.0         0.0  ...         0.0         0.0   \n",
              "HariFav_Sabtu                0.0         0.0  ...         1.0         0.0   \n",
              "HariFav_Selasa               1.0         0.0  ...         0.0         0.0   \n",
              "HariFav_Senin                0.0         1.0  ...         0.0         0.0   \n",
              "FavFlavor_0                  0.0         0.0  ...         0.0         0.0   \n",
              "FavFlavor_1                  0.0         0.0  ...         0.0         0.0   \n",
              "FavFlavor_2                  0.0         0.0  ...         0.0         0.0   \n",
              "FavFlavor_3                  0.0         0.0  ...         0.0         0.0   \n",
              "FavFlavor_4                  0.0         1.0  ...         1.0         0.0   \n",
              "FavFlavor_5                  0.0         0.0  ...         0.0         0.0   \n",
              "FavFlavor_6                  1.0         0.0  ...         0.0         0.0   \n",
              "FavFlavor_7                  0.0         0.0  ...         0.0         0.0   \n",
              "FavFlavor_8                  0.0         0.0  ...         0.0         1.0   \n",
              "FavFlavor_9                  0.0         0.0  ...         0.0         0.0   \n",
              "\n",
              "                           191         192         193        195         196  \\\n",
              "Umur                      22.0        31.0        54.0       31.0        57.0   \n",
              "Pendapatan-per-bulan  819672.0  22540983.0  19672131.0  4098360.0  15983606.0   \n",
              "skor-pengeluaran          76.0        77.0        46.0       73.0        51.0   \n",
              "Jenis Kelamin_Pria         0.0         0.0         1.0        1.0         1.0   \n",
              "Jenis Kelamin_Wanita       1.0         1.0         0.0        0.0         0.0   \n",
              "Menikah_0                  0.0         0.0         0.0        0.0         0.0   \n",
              "Menikah_1                  1.0         1.0         1.0        1.0         1.0   \n",
              "Kota_Depok                 1.0         1.0         0.0        1.0         0.0   \n",
              "Kota_Jakarta               0.0         0.0         1.0        0.0         1.0   \n",
              "Kota_Tangerang             0.0         0.0         0.0        0.0         0.0   \n",
              "Promo_0.0                  0.0         0.0         0.0        0.0         0.0   \n",
              "Promo_1.0                  1.0         1.0         0.0        1.0         1.0   \n",
              "Promo_2.0                  0.0         0.0         1.0        0.0         0.0   \n",
              "Promo_3.0                  0.0         0.0         0.0        0.0         0.0   \n",
              "Promo_5.0                  0.0         0.0         0.0        0.0         0.0   \n",
              "HariFav_Jumat              0.0         0.0         0.0        0.0         0.0   \n",
              "HariFav_Kamis              0.0         0.0         0.0        0.0         0.0   \n",
              "HariFav_Minggu             0.0         0.0         0.0        0.0         1.0   \n",
              "HariFav_Rabu               0.0         0.0         0.0        0.0         0.0   \n",
              "HariFav_Sabtu              0.0         0.0         1.0        0.0         0.0   \n",
              "HariFav_Selasa             0.0         0.0         0.0        0.0         0.0   \n",
              "HariFav_Senin              1.0         1.0         0.0        1.0         0.0   \n",
              "FavFlavor_0                1.0         0.0         0.0        1.0         0.0   \n",
              "FavFlavor_1                0.0         0.0         0.0        0.0         0.0   \n",
              "FavFlavor_2                0.0         0.0         0.0        0.0         0.0   \n",
              "FavFlavor_3                0.0         0.0         1.0        0.0         0.0   \n",
              "FavFlavor_4                0.0         1.0         0.0        0.0         0.0   \n",
              "FavFlavor_5                0.0         0.0         0.0        0.0         1.0   \n",
              "FavFlavor_6                0.0         0.0         0.0        0.0         0.0   \n",
              "FavFlavor_7                0.0         0.0         0.0        0.0         0.0   \n",
              "FavFlavor_8                0.0         0.0         0.0        0.0         0.0   \n",
              "FavFlavor_9                0.0         0.0         0.0        0.0         0.0   \n",
              "\n",
              "                             197        198        199  \n",
              "Umur                        35.0       23.0       50.0  \n",
              "Pendapatan-per-bulan  43032786.0  1229508.0  1639344.0  \n",
              "skor-pengeluaran            79.0       94.0       14.0  \n",
              "Jenis Kelamin_Pria           0.0        0.0        1.0  \n",
              "Jenis Kelamin_Wanita         1.0        1.0        0.0  \n",
              "Menikah_0                    0.0        0.0        0.0  \n",
              "Menikah_1                    1.0        1.0        1.0  \n",
              "Kota_Depok                   1.0        1.0        0.0  \n",
              "Kota_Jakarta                 0.0        0.0        0.0  \n",
              "Kota_Tangerang               0.0        0.0        1.0  \n",
              "Promo_0.0                    0.0        1.0        0.0  \n",
              "Promo_1.0                    1.0        0.0        0.0  \n",
              "Promo_2.0                    0.0        0.0        0.0  \n",
              "Promo_3.0                    0.0        0.0        1.0  \n",
              "Promo_5.0                    0.0        0.0        0.0  \n",
              "HariFav_Jumat                0.0        0.0        0.0  \n",
              "HariFav_Kamis                0.0        0.0        0.0  \n",
              "HariFav_Minggu               0.0        0.0        1.0  \n",
              "HariFav_Rabu                 0.0        0.0        0.0  \n",
              "HariFav_Sabtu                0.0        0.0        0.0  \n",
              "HariFav_Selasa               0.0        1.0        0.0  \n",
              "HariFav_Senin                1.0        0.0        0.0  \n",
              "FavFlavor_0                  0.0        1.0        0.0  \n",
              "FavFlavor_1                  0.0        0.0        0.0  \n",
              "FavFlavor_2                  0.0        0.0        0.0  \n",
              "FavFlavor_3                  0.0        0.0        0.0  \n",
              "FavFlavor_4                  0.0        0.0        0.0  \n",
              "FavFlavor_5                  0.0        0.0        0.0  \n",
              "FavFlavor_6                  0.0        0.0        1.0  \n",
              "FavFlavor_7                  1.0        0.0        0.0  \n",
              "FavFlavor_8                  0.0        0.0        0.0  \n",
              "FavFlavor_9                  0.0        0.0        0.0  \n",
              "\n",
              "[32 rows x 182 columns]"
            ]
          },
          "execution_count": 122,
          "metadata": {},
          "output_type": "execute_result"
        }
      ],
      "source": [
        "df= pd.get_dummies(df)\n",
        "df.transpose()"
      ]
    },
    {
      "cell_type": "code",
      "execution_count": null,
      "metadata": {
        "colab": {
          "base_uri": "https://localhost:8080/",
          "height": 424
        },
        "id": "C_rUdpb3i1j9",
        "outputId": "d841ef2a-d355-4e8b-88be-e29262e1d474"
      },
      "outputs": [
        {
          "data": {
            "text/html": [
              "\n",
              "  <div id=\"df-916235a1-81f4-4908-9bc8-ad774b9032e5\">\n",
              "    <div class=\"colab-df-container\">\n",
              "      <div>\n",
              "<style scoped>\n",
              "    .dataframe tbody tr th:only-of-type {\n",
              "        vertical-align: middle;\n",
              "    }\n",
              "\n",
              "    .dataframe tbody tr th {\n",
              "        vertical-align: top;\n",
              "    }\n",
              "\n",
              "    .dataframe thead th {\n",
              "        text-align: right;\n",
              "    }\n",
              "</style>\n",
              "<table border=\"1\" class=\"dataframe\">\n",
              "  <thead>\n",
              "    <tr style=\"text-align: right;\">\n",
              "      <th></th>\n",
              "      <th>Jenis Kelamin</th>\n",
              "      <th>Umur</th>\n",
              "      <th>Pendapatan-per-bulan</th>\n",
              "      <th>skor-pengeluaran</th>\n",
              "      <th>Menikah</th>\n",
              "      <th>Kota</th>\n",
              "      <th>Promo</th>\n",
              "      <th>HariFav</th>\n",
              "      <th>FavFlavor</th>\n",
              "    </tr>\n",
              "  </thead>\n",
              "  <tbody>\n",
              "    <tr>\n",
              "      <th>0</th>\n",
              "      <td>Wanita</td>\n",
              "      <td>0.810345</td>\n",
              "      <td>0.262295</td>\n",
              "      <td>0.51</td>\n",
              "      <td>1</td>\n",
              "      <td>Jakarta</td>\n",
              "      <td>1.0</td>\n",
              "      <td>Sabtu</td>\n",
              "      <td>2</td>\n",
              "    </tr>\n",
              "    <tr>\n",
              "      <th>1</th>\n",
              "      <td>Wanita</td>\n",
              "      <td>0.517241</td>\n",
              "      <td>0.672131</td>\n",
              "      <td>0.85</td>\n",
              "      <td>1</td>\n",
              "      <td>Depok</td>\n",
              "      <td>1.0</td>\n",
              "      <td>Minggu</td>\n",
              "      <td>6</td>\n",
              "    </tr>\n",
              "    <tr>\n",
              "      <th>2</th>\n",
              "      <td>Pria</td>\n",
              "      <td>0.844828</td>\n",
              "      <td>0.319672</td>\n",
              "      <td>0.40</td>\n",
              "      <td>1</td>\n",
              "      <td>Jakarta</td>\n",
              "      <td>2.0</td>\n",
              "      <td>Minggu</td>\n",
              "      <td>3</td>\n",
              "    </tr>\n",
              "    <tr>\n",
              "      <th>3</th>\n",
              "      <td>Pria</td>\n",
              "      <td>0.293103</td>\n",
              "      <td>0.254098</td>\n",
              "      <td>0.54</td>\n",
              "      <td>0</td>\n",
              "      <td>Jakarta</td>\n",
              "      <td>1.0</td>\n",
              "      <td>Rabu</td>\n",
              "      <td>7</td>\n",
              "    </tr>\n",
              "    <tr>\n",
              "      <th>4</th>\n",
              "      <td>Wanita</td>\n",
              "      <td>0.620690</td>\n",
              "      <td>0.401639</td>\n",
              "      <td>0.41</td>\n",
              "      <td>1</td>\n",
              "      <td>Jakarta</td>\n",
              "      <td>2.0</td>\n",
              "      <td>Senin</td>\n",
              "      <td>8</td>\n",
              "    </tr>\n",
              "    <tr>\n",
              "      <th>...</th>\n",
              "      <td>...</td>\n",
              "      <td>...</td>\n",
              "      <td>...</td>\n",
              "      <td>...</td>\n",
              "      <td>...</td>\n",
              "      <td>...</td>\n",
              "      <td>...</td>\n",
              "      <td>...</td>\n",
              "      <td>...</td>\n",
              "    </tr>\n",
              "    <tr>\n",
              "      <th>195</th>\n",
              "      <td>Pria</td>\n",
              "      <td>0.500000</td>\n",
              "      <td>0.081967</td>\n",
              "      <td>0.72</td>\n",
              "      <td>1</td>\n",
              "      <td>Depok</td>\n",
              "      <td>1.0</td>\n",
              "      <td>Senin</td>\n",
              "      <td>0</td>\n",
              "    </tr>\n",
              "    <tr>\n",
              "      <th>196</th>\n",
              "      <td>Pria</td>\n",
              "      <td>0.948276</td>\n",
              "      <td>0.319672</td>\n",
              "      <td>0.50</td>\n",
              "      <td>1</td>\n",
              "      <td>Jakarta</td>\n",
              "      <td>1.0</td>\n",
              "      <td>Minggu</td>\n",
              "      <td>5</td>\n",
              "    </tr>\n",
              "    <tr>\n",
              "      <th>197</th>\n",
              "      <td>Wanita</td>\n",
              "      <td>0.568966</td>\n",
              "      <td>0.860656</td>\n",
              "      <td>0.78</td>\n",
              "      <td>1</td>\n",
              "      <td>Depok</td>\n",
              "      <td>1.0</td>\n",
              "      <td>Senin</td>\n",
              "      <td>7</td>\n",
              "    </tr>\n",
              "    <tr>\n",
              "      <th>198</th>\n",
              "      <td>Wanita</td>\n",
              "      <td>0.362069</td>\n",
              "      <td>0.024590</td>\n",
              "      <td>0.93</td>\n",
              "      <td>1</td>\n",
              "      <td>Depok</td>\n",
              "      <td>0.0</td>\n",
              "      <td>Selasa</td>\n",
              "      <td>0</td>\n",
              "    </tr>\n",
              "    <tr>\n",
              "      <th>199</th>\n",
              "      <td>Pria</td>\n",
              "      <td>0.827586</td>\n",
              "      <td>0.032787</td>\n",
              "      <td>0.13</td>\n",
              "      <td>1</td>\n",
              "      <td>Tangerang</td>\n",
              "      <td>3.0</td>\n",
              "      <td>Minggu</td>\n",
              "      <td>6</td>\n",
              "    </tr>\n",
              "  </tbody>\n",
              "</table>\n",
              "<p>200 rows × 9 columns</p>\n",
              "</div>\n",
              "      <button class=\"colab-df-convert\" onclick=\"convertToInteractive('df-916235a1-81f4-4908-9bc8-ad774b9032e5')\"\n",
              "              title=\"Convert this dataframe to an interactive table.\"\n",
              "              style=\"display:none;\">\n",
              "        \n",
              "  <svg xmlns=\"http://www.w3.org/2000/svg\" height=\"24px\"viewBox=\"0 0 24 24\"\n",
              "       width=\"24px\">\n",
              "    <path d=\"M0 0h24v24H0V0z\" fill=\"none\"/>\n",
              "    <path d=\"M18.56 5.44l.94 2.06.94-2.06 2.06-.94-2.06-.94-.94-2.06-.94 2.06-2.06.94zm-11 1L8.5 8.5l.94-2.06 2.06-.94-2.06-.94L8.5 2.5l-.94 2.06-2.06.94zm10 10l.94 2.06.94-2.06 2.06-.94-2.06-.94-.94-2.06-.94 2.06-2.06.94z\"/><path d=\"M17.41 7.96l-1.37-1.37c-.4-.4-.92-.59-1.43-.59-.52 0-1.04.2-1.43.59L10.3 9.45l-7.72 7.72c-.78.78-.78 2.05 0 2.83L4 21.41c.39.39.9.59 1.41.59.51 0 1.02-.2 1.41-.59l7.78-7.78 2.81-2.81c.8-.78.8-2.07 0-2.86zM5.41 20L4 18.59l7.72-7.72 1.47 1.35L5.41 20z\"/>\n",
              "  </svg>\n",
              "      </button>\n",
              "      \n",
              "  <style>\n",
              "    .colab-df-container {\n",
              "      display:flex;\n",
              "      flex-wrap:wrap;\n",
              "      gap: 12px;\n",
              "    }\n",
              "\n",
              "    .colab-df-convert {\n",
              "      background-color: #E8F0FE;\n",
              "      border: none;\n",
              "      border-radius: 50%;\n",
              "      cursor: pointer;\n",
              "      display: none;\n",
              "      fill: #1967D2;\n",
              "      height: 32px;\n",
              "      padding: 0 0 0 0;\n",
              "      width: 32px;\n",
              "    }\n",
              "\n",
              "    .colab-df-convert:hover {\n",
              "      background-color: #E2EBFA;\n",
              "      box-shadow: 0px 1px 2px rgba(60, 64, 67, 0.3), 0px 1px 3px 1px rgba(60, 64, 67, 0.15);\n",
              "      fill: #174EA6;\n",
              "    }\n",
              "\n",
              "    [theme=dark] .colab-df-convert {\n",
              "      background-color: #3B4455;\n",
              "      fill: #D2E3FC;\n",
              "    }\n",
              "\n",
              "    [theme=dark] .colab-df-convert:hover {\n",
              "      background-color: #434B5C;\n",
              "      box-shadow: 0px 1px 3px 1px rgba(0, 0, 0, 0.15);\n",
              "      filter: drop-shadow(0px 1px 2px rgba(0, 0, 0, 0.3));\n",
              "      fill: #FFFFFF;\n",
              "    }\n",
              "  </style>\n",
              "\n",
              "      <script>\n",
              "        const buttonEl =\n",
              "          document.querySelector('#df-916235a1-81f4-4908-9bc8-ad774b9032e5 button.colab-df-convert');\n",
              "        buttonEl.style.display =\n",
              "          google.colab.kernel.accessAllowed ? 'block' : 'none';\n",
              "\n",
              "        async function convertToInteractive(key) {\n",
              "          const element = document.querySelector('#df-916235a1-81f4-4908-9bc8-ad774b9032e5');\n",
              "          const dataTable =\n",
              "            await google.colab.kernel.invokeFunction('convertToInteractive',\n",
              "                                                     [key], {});\n",
              "          if (!dataTable) return;\n",
              "\n",
              "          const docLinkHtml = 'Like what you see? Visit the ' +\n",
              "            '<a target=\"_blank\" href=https://colab.research.google.com/notebooks/data_table.ipynb>data table notebook</a>'\n",
              "            + ' to learn more about interactive tables.';\n",
              "          element.innerHTML = '';\n",
              "          dataTable['output_type'] = 'display_data';\n",
              "          await google.colab.output.renderOutput(dataTable, element);\n",
              "          const docLink = document.createElement('div');\n",
              "          docLink.innerHTML = docLinkHtml;\n",
              "          element.appendChild(docLink);\n",
              "        }\n",
              "      </script>\n",
              "    </div>\n",
              "  </div>\n",
              "  "
            ],
            "text/plain": [
              "    Jenis Kelamin      Umur  Pendapatan-per-bulan  skor-pengeluaran Menikah  \\\n",
              "0          Wanita  0.810345              0.262295              0.51       1   \n",
              "1          Wanita  0.517241              0.672131              0.85       1   \n",
              "2            Pria  0.844828              0.319672              0.40       1   \n",
              "3            Pria  0.293103              0.254098              0.54       0   \n",
              "4          Wanita  0.620690              0.401639              0.41       1   \n",
              "..            ...       ...                   ...               ...     ...   \n",
              "195          Pria  0.500000              0.081967              0.72       1   \n",
              "196          Pria  0.948276              0.319672              0.50       1   \n",
              "197        Wanita  0.568966              0.860656              0.78       1   \n",
              "198        Wanita  0.362069              0.024590              0.93       1   \n",
              "199          Pria  0.827586              0.032787              0.13       1   \n",
              "\n",
              "          Kota Promo HariFav FavFlavor  \n",
              "0      Jakarta   1.0   Sabtu         2  \n",
              "1        Depok   1.0  Minggu         6  \n",
              "2      Jakarta   2.0  Minggu         3  \n",
              "3      Jakarta   1.0    Rabu         7  \n",
              "4      Jakarta   2.0   Senin         8  \n",
              "..         ...   ...     ...       ...  \n",
              "195      Depok   1.0   Senin         0  \n",
              "196    Jakarta   1.0  Minggu         5  \n",
              "197      Depok   1.0   Senin         7  \n",
              "198      Depok   0.0  Selasa         0  \n",
              "199  Tangerang   3.0  Minggu         6  \n",
              "\n",
              "[200 rows x 9 columns]"
            ]
          },
          "execution_count": 67,
          "metadata": {},
          "output_type": "execute_result"
        }
      ],
      "source": [
        "from sklearn.preprocessing import MinMaxScaler\n",
        "\n",
        "scaler = MinMaxScaler()\n",
        "\n",
        "scaler.fit(df[['Umur']])\n",
        "df['Umur'] = scaler.transform(df[['Umur']])\n",
        "\n",
        "scaler.fit(df[['Pendapatan-per-bulan']])\n",
        "df['Pendapatan-per-bulan'] = scaler.transform(df[['Pendapatan-per-bulan']])\n",
        "\n",
        "scaler.fit(df[['skor-pengeluaran']])\n",
        "df['skor-pengeluaran'] = scaler.transform(df[['skor-pengeluaran']])\n",
        "\n",
        "df"
      ]
    },
    {
      "cell_type": "code",
      "execution_count": null,
      "metadata": {
        "colab": {
          "base_uri": "https://localhost:8080/",
          "height": 307
        },
        "id": "XI96kx8mgvgL",
        "outputId": "e2d31a41-f16d-4057-fd63-820596ec8fd6"
      },
      "outputs": [
        {
          "data": {
            "text/plain": [
              "Text(0, 0.5, 'Pendapatan-per-bulan')"
            ]
          },
          "execution_count": 64,
          "metadata": {},
          "output_type": "execute_result"
        },
        {
          "data": {
            "image/png": "[encoded data removed]",
            "text/plain": [
              "<Figure size 432x288 with 1 Axes>"
            ]
          },
          "metadata": {},
          "output_type": "display_data"
        }
      ],
      "source": [
        "from matplotlib import pyplot as plt\n",
        "plt.scatter(df.Umur,df['Pendapatan-per-bulan'])\n",
        "plt.xlabel('Umur')\n",
        "plt.ylabel('Pendapatan-per-bulan')"
      ]
    },
    {
      "cell_type": "code",
      "execution_count": null,
      "metadata": {
        "colab": {
          "base_uri": "https://localhost:8080/",
          "height": 307
        },
        "id": "iW7MxEaRijG3",
        "outputId": "1f7b9666-dc74-4ec1-809f-bdfed3abff60"
      },
      "outputs": [
        {
          "data": {
            "text/plain": [
              "Text(0, 0.5, 'skor-pengeluaran')"
            ]
          },
          "execution_count": 65,
          "metadata": {},
          "output_type": "execute_result"
        },
        {
          "data": {
            "image/png": "[encoded data removed]",
            "text/plain": [
              "<Figure size 432x288 with 1 Axes>"
            ]
          },
          "metadata": {},
          "output_type": "display_data"
        }
      ],
      "source": [
        "plt.scatter(df.Umur,df['Pendapatan-per-bulan'])\n",
        "plt.xlabel('Umur')\n",
        "plt.ylabel('skor-pengeluaran')"
      ]
    },
    {
      "cell_type": "code",
      "execution_count": null,
      "metadata": {
        "colab": {
          "base_uri": "https://localhost:8080/",
          "height": 312
        },
        "id": "-p9BbfjBiqs1",
        "outputId": "3338a931-97fe-4ecc-a6b2-4bb15349cdee"
      },
      "outputs": [
        {
          "data": {
            "text/plain": [
              "[<matplotlib.lines.Line2D at 0x7f9c4c340290>]"
            ]
          },
          "execution_count": 72,
          "metadata": {},
          "output_type": "execute_result"
        },
        {
          "data": {
            "image/png": "[encoded data removed]",
            "text/plain": [
              "<Figure size 432x288 with 1 Axes>"
            ]
          },
          "metadata": {},
          "output_type": "display_data"
        }
      ],
      "source": [
        "from sklearn.cluster import KMeans\n",
        "a = []\n",
        "k_rng = range(1,10)\n",
        "for k in k_rng:\n",
        "    km = KMeans(n_clusters=k)\n",
        "    km.fit(df[['Umur','skor-pengeluaran']])\n",
        "    a.append(km.inertia_)\n",
        "plt.xlabel('Jumlah cluster')\n",
        "plt.ylabel('Inertia')\n",
        "plt.title('Elbow curve')\n",
        "plt.plot(k_rng,a)"
      ]
    },
    {
      "cell_type": "code",
      "execution_count": null,
      "metadata": {
        "colab": {
          "base_uri": "https://localhost:8080/"
        },
        "id": "Bq_cV86KjDIN",
        "outputId": "a75b99c3-2e26-4243-b9d7-f17e5abf7454"
      },
      "outputs": [
        {
          "data": {
            "text/plain": [
              "array([1, 2, 1, 0, 1, 2, 0, 2, 0, 0, 0, 2, 3, 3, 3, 1, 3, 2, 3, 3, 2, 0,\n",
              "       1, 3, 2, 0, 3, 1, 2, 2, 2, 2, 2, 1, 0, 0, 0, 2, 1, 0, 3, 2, 2, 3,\n",
              "       2, 1, 0, 3, 1, 2, 1, 2, 1, 1, 1, 3, 1, 3, 1, 1, 0, 1, 1, 1, 0, 1,\n",
              "       2, 1, 0, 2, 1, 3, 1, 3, 2, 3, 1, 2, 2, 2, 2, 1, 2, 0, 1, 1, 3, 0,\n",
              "       1, 2, 3, 3, 1, 3, 3, 2, 1, 1, 1, 0, 1, 3, 3, 1, 3, 0, 2, 0, 0, 2,\n",
              "       2, 2, 0, 3, 1, 3, 1, 1, 2, 0, 3, 1, 3, 0, 3, 2, 2, 1, 0, 1, 3, 2,\n",
              "       0, 0, 0, 1, 1, 2, 0, 2, 1, 2, 2, 3, 3, 2, 0, 1, 2, 1, 3, 2, 3, 0,\n",
              "       2, 2, 3, 2, 2, 1, 2, 0, 2, 1, 2, 1, 2, 2, 0, 2, 0, 3, 1, 0, 2, 3,\n",
              "       0, 2, 0, 2, 3, 2, 3, 2, 3, 2, 3, 0, 1, 1, 3, 2, 2, 1, 2, 2, 1, 2,\n",
              "       2, 3], dtype=int32)"
            ]
          },
          "execution_count": 73,
          "metadata": {},
          "output_type": "execute_result"
        }
      ],
      "source": [
        "from sklearn.cluster import KMeans\n",
        "\n",
        "km = KMeans(n_clusters=4)\n",
        "y_predicted = km.fit_predict(df[['Umur','skor-pengeluaran']])\n",
        "y_predicted"
      ]
    },
    {
      "cell_type": "code",
      "execution_count": null,
      "metadata": {
        "colab": {
          "base_uri": "https://localhost:8080/",
          "height": 424
        },
        "id": "vQzk_udqjkSf",
        "outputId": "a5ab501e-1049-4e66-9cc3-065f4943cdd3"
      },
      "outputs": [
        {
          "data": {
            "text/html": [
              "\n",
              "  <div id=\"df-d4cae636-ca21-4cac-9919-1a169d5e6e55\">\n",
              "    <div class=\"colab-df-container\">\n",
              "      <div>\n",
              "<style scoped>\n",
              "    .dataframe tbody tr th:only-of-type {\n",
              "        vertical-align: middle;\n",
              "    }\n",
              "\n",
              "    .dataframe tbody tr th {\n",
              "        vertical-align: top;\n",
              "    }\n",
              "\n",
              "    .dataframe thead th {\n",
              "        text-align: right;\n",
              "    }\n",
              "</style>\n",
              "<table border=\"1\" class=\"dataframe\">\n",
              "  <thead>\n",
              "    <tr style=\"text-align: right;\">\n",
              "      <th></th>\n",
              "      <th>Jenis Kelamin</th>\n",
              "      <th>Umur</th>\n",
              "      <th>Pendapatan-per-bulan</th>\n",
              "      <th>skor-pengeluaran</th>\n",
              "      <th>Menikah</th>\n",
              "      <th>Kota</th>\n",
              "      <th>Promo</th>\n",
              "      <th>HariFav</th>\n",
              "      <th>FavFlavor</th>\n",
              "      <th>cluster</th>\n",
              "    </tr>\n",
              "  </thead>\n",
              "  <tbody>\n",
              "    <tr>\n",
              "      <th>0</th>\n",
              "      <td>Wanita</td>\n",
              "      <td>0.810345</td>\n",
              "      <td>0.262295</td>\n",
              "      <td>0.51</td>\n",
              "      <td>1</td>\n",
              "      <td>Jakarta</td>\n",
              "      <td>1.0</td>\n",
              "      <td>Sabtu</td>\n",
              "      <td>2</td>\n",
              "      <td>1</td>\n",
              "    </tr>\n",
              "    <tr>\n",
              "      <th>1</th>\n",
              "      <td>Wanita</td>\n",
              "      <td>0.517241</td>\n",
              "      <td>0.672131</td>\n",
              "      <td>0.85</td>\n",
              "      <td>1</td>\n",
              "      <td>Depok</td>\n",
              "      <td>1.0</td>\n",
              "      <td>Minggu</td>\n",
              "      <td>6</td>\n",
              "      <td>2</td>\n",
              "    </tr>\n",
              "    <tr>\n",
              "      <th>2</th>\n",
              "      <td>Pria</td>\n",
              "      <td>0.844828</td>\n",
              "      <td>0.319672</td>\n",
              "      <td>0.40</td>\n",
              "      <td>1</td>\n",
              "      <td>Jakarta</td>\n",
              "      <td>2.0</td>\n",
              "      <td>Minggu</td>\n",
              "      <td>3</td>\n",
              "      <td>1</td>\n",
              "    </tr>\n",
              "    <tr>\n",
              "      <th>3</th>\n",
              "      <td>Pria</td>\n",
              "      <td>0.293103</td>\n",
              "      <td>0.254098</td>\n",
              "      <td>0.54</td>\n",
              "      <td>0</td>\n",
              "      <td>Jakarta</td>\n",
              "      <td>1.0</td>\n",
              "      <td>Rabu</td>\n",
              "      <td>7</td>\n",
              "      <td>0</td>\n",
              "    </tr>\n",
              "    <tr>\n",
              "      <th>4</th>\n",
              "      <td>Wanita</td>\n",
              "      <td>0.620690</td>\n",
              "      <td>0.401639</td>\n",
              "      <td>0.41</td>\n",
              "      <td>1</td>\n",
              "      <td>Jakarta</td>\n",
              "      <td>2.0</td>\n",
              "      <td>Senin</td>\n",
              "      <td>8</td>\n",
              "      <td>1</td>\n",
              "    </tr>\n",
              "    <tr>\n",
              "      <th>...</th>\n",
              "      <td>...</td>\n",
              "      <td>...</td>\n",
              "      <td>...</td>\n",
              "      <td>...</td>\n",
              "      <td>...</td>\n",
              "      <td>...</td>\n",
              "      <td>...</td>\n",
              "      <td>...</td>\n",
              "      <td>...</td>\n",
              "      <td>...</td>\n",
              "    </tr>\n",
              "    <tr>\n",
              "      <th>195</th>\n",
              "      <td>Pria</td>\n",
              "      <td>0.500000</td>\n",
              "      <td>0.081967</td>\n",
              "      <td>0.72</td>\n",
              "      <td>1</td>\n",
              "      <td>Depok</td>\n",
              "      <td>1.0</td>\n",
              "      <td>Senin</td>\n",
              "      <td>0</td>\n",
              "      <td>2</td>\n",
              "    </tr>\n",
              "    <tr>\n",
              "      <th>196</th>\n",
              "      <td>Pria</td>\n",
              "      <td>0.948276</td>\n",
              "      <td>0.319672</td>\n",
              "      <td>0.50</td>\n",
              "      <td>1</td>\n",
              "      <td>Jakarta</td>\n",
              "      <td>1.0</td>\n",
              "      <td>Minggu</td>\n",
              "      <td>5</td>\n",
              "      <td>1</td>\n",
              "    </tr>\n",
              "    <tr>\n",
              "      <th>197</th>\n",
              "      <td>Wanita</td>\n",
              "      <td>0.568966</td>\n",
              "      <td>0.860656</td>\n",
              "      <td>0.78</td>\n",
              "      <td>1</td>\n",
              "      <td>Depok</td>\n",
              "      <td>1.0</td>\n",
              "      <td>Senin</td>\n",
              "      <td>7</td>\n",
              "      <td>2</td>\n",
              "    </tr>\n",
              "    <tr>\n",
              "      <th>198</th>\n",
              "      <td>Wanita</td>\n",
              "      <td>0.362069</td>\n",
              "      <td>0.024590</td>\n",
              "      <td>0.93</td>\n",
              "      <td>1</td>\n",
              "      <td>Depok</td>\n",
              "      <td>0.0</td>\n",
              "      <td>Selasa</td>\n",
              "      <td>0</td>\n",
              "      <td>2</td>\n",
              "    </tr>\n",
              "    <tr>\n",
              "      <th>199</th>\n",
              "      <td>Pria</td>\n",
              "      <td>0.827586</td>\n",
              "      <td>0.032787</td>\n",
              "      <td>0.13</td>\n",
              "      <td>1</td>\n",
              "      <td>Tangerang</td>\n",
              "      <td>3.0</td>\n",
              "      <td>Minggu</td>\n",
              "      <td>6</td>\n",
              "      <td>3</td>\n",
              "    </tr>\n",
              "  </tbody>\n",
              "</table>\n",
              "<p>200 rows × 10 columns</p>\n",
              "</div>\n",
              "      <button class=\"colab-df-convert\" onclick=\"convertToInteractive('df-d4cae636-ca21-4cac-9919-1a169d5e6e55')\"\n",
              "              title=\"Convert this dataframe to an interactive table.\"\n",
              "              style=\"display:none;\">\n",
              "        \n",
              "  <svg xmlns=\"http://www.w3.org/2000/svg\" height=\"24px\"viewBox=\"0 0 24 24\"\n",
              "       width=\"24px\">\n",
              "    <path d=\"M0 0h24v24H0V0z\" fill=\"none\"/>\n",
              "    <path d=\"M18.56 5.44l.94 2.06.94-2.06 2.06-.94-2.06-.94-.94-2.06-.94 2.06-2.06.94zm-11 1L8.5 8.5l.94-2.06 2.06-.94-2.06-.94L8.5 2.5l-.94 2.06-2.06.94zm10 10l.94 2.06.94-2.06 2.06-.94-2.06-.94-.94-2.06-.94 2.06-2.06.94z\"/><path d=\"M17.41 7.96l-1.37-1.37c-.4-.4-.92-.59-1.43-.59-.52 0-1.04.2-1.43.59L10.3 9.45l-7.72 7.72c-.78.78-.78 2.05 0 2.83L4 21.41c.39.39.9.59 1.41.59.51 0 1.02-.2 1.41-.59l7.78-7.78 2.81-2.81c.8-.78.8-2.07 0-2.86zM5.41 20L4 18.59l7.72-7.72 1.47 1.35L5.41 20z\"/>\n",
              "  </svg>\n",
              "      </button>\n",
              "      \n",
              "  <style>\n",
              "    .colab-df-container {\n",
              "      display:flex;\n",
              "      flex-wrap:wrap;\n",
              "      gap: 12px;\n",
              "    }\n",
              "\n",
              "    .colab-df-convert {\n",
              "      background-color: #E8F0FE;\n",
              "      border: none;\n",
              "      border-radius: 50%;\n",
              "      cursor: pointer;\n",
              "      display: none;\n",
              "      fill: #1967D2;\n",
              "      height: 32px;\n",
              "      padding: 0 0 0 0;\n",
              "      width: 32px;\n",
              "    }\n",
              "\n",
              "    .colab-df-convert:hover {\n",
              "      background-color: #E2EBFA;\n",
              "      box-shadow: 0px 1px 2px rgba(60, 64, 67, 0.3), 0px 1px 3px 1px rgba(60, 64, 67, 0.15);\n",
              "      fill: #174EA6;\n",
              "    }\n",
              "\n",
              "    [theme=dark] .colab-df-convert {\n",
              "      background-color: #3B4455;\n",
              "      fill: #D2E3FC;\n",
              "    }\n",
              "\n",
              "    [theme=dark] .colab-df-convert:hover {\n",
              "      background-color: #434B5C;\n",
              "      box-shadow: 0px 1px 3px 1px rgba(0, 0, 0, 0.15);\n",
              "      filter: drop-shadow(0px 1px 2px rgba(0, 0, 0, 0.3));\n",
              "      fill: #FFFFFF;\n",
              "    }\n",
              "  </style>\n",
              "\n",
              "      <script>\n",
              "        const buttonEl =\n",
              "          document.querySelector('#df-d4cae636-ca21-4cac-9919-1a169d5e6e55 button.colab-df-convert');\n",
              "        buttonEl.style.display =\n",
              "          google.colab.kernel.accessAllowed ? 'block' : 'none';\n",
              "\n",
              "        async function convertToInteractive(key) {\n",
              "          const element = document.querySelector('#df-d4cae636-ca21-4cac-9919-1a169d5e6e55');\n",
              "          const dataTable =\n",
              "            await google.colab.kernel.invokeFunction('convertToInteractive',\n",
              "                                                     [key], {});\n",
              "          if (!dataTable) return;\n",
              "\n",
              "          const docLinkHtml = 'Like what you see? Visit the ' +\n",
              "            '<a target=\"_blank\" href=https://colab.research.google.com/notebooks/data_table.ipynb>data table notebook</a>'\n",
              "            + ' to learn more about interactive tables.';\n",
              "          element.innerHTML = '';\n",
              "          dataTable['output_type'] = 'display_data';\n",
              "          await google.colab.output.renderOutput(dataTable, element);\n",
              "          const docLink = document.createElement('div');\n",
              "          docLink.innerHTML = docLinkHtml;\n",
              "          element.appendChild(docLink);\n",
              "        }\n",
              "      </script>\n",
              "    </div>\n",
              "  </div>\n",
              "  "
            ],
            "text/plain": [
              "    Jenis Kelamin      Umur  Pendapatan-per-bulan  skor-pengeluaran Menikah  \\\n",
              "0          Wanita  0.810345              0.262295              0.51       1   \n",
              "1          Wanita  0.517241              0.672131              0.85       1   \n",
              "2            Pria  0.844828              0.319672              0.40       1   \n",
              "3            Pria  0.293103              0.254098              0.54       0   \n",
              "4          Wanita  0.620690              0.401639              0.41       1   \n",
              "..            ...       ...                   ...               ...     ...   \n",
              "195          Pria  0.500000              0.081967              0.72       1   \n",
              "196          Pria  0.948276              0.319672              0.50       1   \n",
              "197        Wanita  0.568966              0.860656              0.78       1   \n",
              "198        Wanita  0.362069              0.024590              0.93       1   \n",
              "199          Pria  0.827586              0.032787              0.13       1   \n",
              "\n",
              "          Kota Promo HariFav FavFlavor  cluster  \n",
              "0      Jakarta   1.0   Sabtu         2        1  \n",
              "1        Depok   1.0  Minggu         6        2  \n",
              "2      Jakarta   2.0  Minggu         3        1  \n",
              "3      Jakarta   1.0    Rabu         7        0  \n",
              "4      Jakarta   2.0   Senin         8        1  \n",
              "..         ...   ...     ...       ...      ...  \n",
              "195      Depok   1.0   Senin         0        2  \n",
              "196    Jakarta   1.0  Minggu         5        1  \n",
              "197      Depok   1.0   Senin         7        2  \n",
              "198      Depok   0.0  Selasa         0        2  \n",
              "199  Tangerang   3.0  Minggu         6        3  \n",
              "\n",
              "[200 rows x 10 columns]"
            ]
          },
          "execution_count": 76,
          "metadata": {},
          "output_type": "execute_result"
        }
      ],
      "source": [
        "df['cluster']=y_predicted\n",
        "df"
      ]
    },
    {
      "cell_type": "code",
      "execution_count": null,
      "metadata": {
        "colab": {
          "base_uri": "https://localhost:8080/",
          "height": 296
        },
        "id": "5Vn2Hhd7ityq",
        "outputId": "964fc317-ab30-48ce-ea76-82b0dc1b4cdc"
      },
      "outputs": [
        {
          "data": {
            "text/plain": [
              "<matplotlib.legend.Legend at 0x7f9c4c3ac350>"
            ]
          },
          "execution_count": 74,
          "metadata": {},
          "output_type": "execute_result"
        },
        {
          "data": {
            "image/png": "[encoded data removed]",
            "text/plain": [
              "<Figure size 432x288 with 1 Axes>"
            ]
          },
          "metadata": {},
          "output_type": "display_data"
        }
      ],
      "source": [
        "df['cluster']=y_predicted\n",
        "df1 = df[df.cluster==0]\n",
        "df2 = df[df.cluster==1]\n",
        "df3 = df[df.cluster==2]\n",
        "df4 = df[df.cluster==3]\n",
        "plt.scatter(df1.Umur,df1['skor-pengeluaran'],color='green')\n",
        "plt.scatter(df2.Umur,df2['skor-pengeluaran'],color='red')\n",
        "plt.scatter(df3.Umur,df3['skor-pengeluaran'],color='blue')\n",
        "plt.scatter(df4.Umur,df4['skor-pengeluaran'],color='black')\n",
        "plt.scatter(km.cluster_centers_[:,0],km.cluster_centers_[:,1],color='purple',marker='*',label='centroid')\n",
        "plt.xlabel('Umur')\n",
        "plt.ylabel('Skor Pengeluaran')\n",
        "plt.legend()"
      ]
    },
    {
      "cell_type": "code",
      "execution_count": null,
      "metadata": {
        "colab": {
          "base_uri": "https://localhost:8080/"
        },
        "id": "xpoGtgZEjOSc",
        "outputId": "2c51c752-dd3b-4f76-c714-e2e12fdb39ce"
      },
      "outputs": [
        {
          "data": {
            "text/plain": [
              "2    65\n",
              "1    54\n",
              "3    43\n",
              "0    38\n",
              "Name: cluster, dtype: int64"
            ]
          },
          "execution_count": 78,
          "metadata": {},
          "output_type": "execute_result"
        }
      ],
      "source": [
        "df['cluster'].value_counts()"
      ]
    },
    {
      "cell_type": "markdown",
      "metadata": {
        "id": "RBjvpPSSknJ4"
      },
      "source": [
        "Cluster 0 : konsumen dengan umur menengah dan skor pengeluaran tinggi\n",
        "\n",
        "Cluster 1 : konsumen dengan umur tinggi dan skor pengeluaran menengah\n",
        "\n",
        "Cluster 2 : konsumen dengan umur menengah dan skor pengeluaran menengah\n",
        "\n",
        "Cluster 3 : konsumen dengan umur tinggi dan skor pengeluaran rendah\n",
        "\n",
        "Berdasarkan grafik dan kode di atas, terdapat 65 konsumen yang berada di cluster 2, dimana jumlah ini merupakan jumlah terbanyak. Artinya, konsumen MixITUp didominasi oleh konsumen dengan umur menengah dan skor pengeluaran menengah. Agar skor pengeluaran meningkat, perusahaan dapat memberikan promo pelajar dan mahasiswa (termasuk umur menengah) sehingga, konsumen akan lebih sering membeli dan meningkatkan skor pengeluaran.\n",
        "\n",
        "Rekomendasi ini juga bisa berpengaruh terhadap skor pengeluaran pada konsumen yang berada di cluster 0. Dari cluster 1 dan 3, kebanyakan konsumen dengan umur tinggi, skor pengeluarannya menengah hingga rendah. untuk meningkatkannya, perusahaan dapat memberikan juga promo keluarga. Kedua promo ini bisa dilaksanakan secara bergantian."
      ]
    },
    {
      "cell_type": "markdown",
      "source": [
        "# **Kesimpulan :**\n",
        "\n",
        "A. Kualitas Data yang dimiliki Perusahaan :\n",
        "1. Data masih terdiri dari beberapa noise, missing values, dan outlier\n",
        "2. Data masih tersimpan dalam bentuk excel\n",
        "\n",
        "Saran untuk perbaikan data, ada baiknya untuk menghindari munculnya noiise ataupun missing value, memastikan instrumen pengukuran baik terlebih dahulu sebelum mengambil data dipertimbangkan. Selain itu, ada baiknya untuk mempertimbangkan penyimpanan data menggunakan file csv.  untuk mempermudah data analyst dalam mengolah data, sehingga tidak perlu merubah file dari excel ke csv. Selain, itu kapasitas penyimpanan csv lebih baik dibandingkan excel\n",
        "\n",
        "Untuk menambah keragaman data, diperlukan tambahan data luas tanah, jumlah kursi, meja,  jumlah karyawan dari tiap cabang dan berapa kali member yang melakukan pesanan dine ini dalam seminggu untuk membantu analisis dalam permasalahan antrian dine-in, dan pesan antar yang melebihi kapasitas pelayanan\n",
        "\n",
        "Skor pengeluaran paling tinggi terjadi di kota *Depok*, warga kota depok memiliki tingkat pengeluaran di MixItUp yang paling besar. Sehingga, bisa disarankan untuk membuka lebih banyak cabang di Kota Depok. Namun untuk menambah cabang di Kota Depok, sebaiknya mempertimbangkan banyak penjualan di masing-masing cabang yang ada di kota Depok.\n",
        "\n",
        "Di Kota Jakarta, terdata banyak pembeli yang mendaftarkan loyality programnya. Maka, dapat digencarkan kembali promosi untuk mendaftar loyality program.\n",
        "\n",
        "Member MixITUp kota depok suka rasa vanilla, sedangkan kota lain distribusi rasa fav nya menyebar merata Sehingga dapat diperbanyak stock persedian es krim vanilla di kota Depok. Bisa juga dengan membuat promo di rasa es krim lainnya sehingga skor pengeluarannya makin tinggi\n",
        "\n",
        "Gaji setiap pembeli dari kota jakarta paling banyak di kisaran 10 jt - 25 jt an, sedangkan gaji pembeli dari kota depok dan kota tangerang di kisaran kurang dari 10 jt dan lebih dari 20 jt. Agar skor pengeluaran di kota lebih tinggi, bisa meningkatkan promosi untuk lebih mengenalkan produknya. Promosi tersebut bisa melalui medsos dan bazaar.\n",
        "\n",
        "Pembeli di Kota Depok kisaran di umur 10 - 45 tahun atau didominasi oleh anak muda yang yang berumur 20 - 35 tahun. \n",
        "\n",
        "Untuk kota Jakarta memiliki pembeli yang umurnya bervariasi, tetapi di dominasi oleh pembeli yang berumur 40-60 tahun.\n",
        "\n",
        "Sedangkan, Kota Tangerang memiliki pembeli yang kisarannya di 10 -70 tahun tetapi didominasi oleh 30 - 50 tahun.\n",
        "\n",
        "*Insight* = Mungkin *alasan kenapa skor pengeluaran di Kota Tangerang lebih sedikit* dibanding kota lainnya adalah *pembeli yang kebanyakan umurnya sudah tua. Pembeli yang berumur 30 - 50 tahun di **Kota Tangerang tidak tertarik untuk membeli produk MixItUp*\n",
        "\n",
        "Sedangkan *kota Depok didominasi oleh anak muda* yang umurnya 20 - 35 tahun sehingga *produk kita lebih laris* berdasarkan skor pengeluaran.\n",
        "\n",
        "Hari favorit pembeli paling banyak pada hari Senin, Sabtu dan Minggu. Sedangkan hari Jum'at, Kamis dan Rabu sedikit pembeli yang menyukainya.\n",
        "\n",
        "Insight: *Perbanyak pegawai dan stok* produk di hari *Senin, Sabtu dan Minggu. Kebalikannya, kurangi shift pegawai di hari **rabu - jum'at*\n",
        "\n",
        "Di *Kota Depok, pembeli **sering berkunjung* pada hari *Senin. Oleh karena itu, perbanyak pegawai dan stok es krim pada hari Senin. Untuk **hari yang sepi, yaitu hari **Rabu, Jum'at dan Kamis*, bisa dibuat promo untuk es krim yang rasanya paling favorit (kita tahu vanilla rasa yang paling laku di Depok)\n",
        "\n",
        "Untuk *Kota Jakarta, pembeli **sering berkunjung* pada hari *Minggu, Sabtu, dan Senin. Oleh karena itu, perbanyak pegawai dan stok es krim pada hari tersebut. Untuk **hari yang sepi, yaitu hari **Rabu, Jum'at dan Kamis*, bisa dibuat promo.\n",
        "\n",
        "Untuk *Kota Tangerang, pembeli **sering berkunjung* pada hari *Sabtu, Senin dan Minggu. Oleh karena itu, perbanyak pegawai dan stok es krim pada hari tersebut. Untuk **hari yang sepi, yaitu hari **Rabu, Kamis dan Jum'at*, bisa dibuat promo.\n",
        "\n"
      ],
      "metadata": {
        "id": "D52BjGJVp0LB"
      }
    },
    {
      "cell_type": "markdown",
      "source": [
        "Market Segmentation :\n",
        "\n",
        "Dari hasil clustering didapatkan 4 cluster sebagai berikut :\n",
        "Cluster 0 : konsumen dengan umur menengah dan skor pengeluaran tinggi\n",
        "Cluster 1 : konsumen dengan umur tinggi dan skor pengeluaran menengah\n",
        "Cluster 2 : konsumen dengan umur menengah dan skor pengeluaran menengah\n",
        "Cluster 3 : konsumen dengan umur tinggi dan skor pengeluaran rendah\n",
        "\n",
        "Berdasarkan grafik dan kode di atas, terdapat 65 konsumen yang berada di cluster 2, dimana jumlah ini merupakan jumlah terbanyak. Artinya, konsumen MixITUp didominasi oleh konsumen dengan umur menengah dan skor pengeluaran menengah. Agar skor pengeluaran meningkat, perusahaan dapat memberikan promo pelajar dan mahasiswa (termasuk umur menengah) sehingga, konsumen akan lebih sering membeli dan meningkatkan skor pengeluaran.\n",
        "\n",
        "Rekomendasi ini juga bisa berpengaruh terhadap skor pengeluaran pada konsumen yang berada di cluster 0. Dari cluster 1 dan 3, kebanyakan konsumen dengan umur tinggi, skor pengeluarannya menengah hingga rendah. untuk meningkatkannya, perusahaan dapat memberikan juga promo keluarga. Kedua promo ini bisa dilaksanakan secara bergantian."
      ],
      "metadata": {
        "id": "3p3OdnADqoO0"
      }
    }
  ],
  "metadata": {
    "colab": {
      "collapsed_sections": [],
      "provenance": [],
      "include_colab_link": true
    },
    "kernelspec": {
      "display_name": "Python 3",
      "name": "python3"
    },
    "language_info": {
      "name": "python"
    }
  },
  "nbformat": 4,
  "nbformat_minor": 0
}